{
  "nbformat": 4,
  "nbformat_minor": 0,
  "metadata": {
    "colab": {
      "name": "A5b Intro to Classes.ipynb",
      "private_outputs": true,
      "provenance": [],
      "authorship_tag": "ABX9TyPisVThMPtpMeCFspAubIUh",
      "include_colab_link": true
    },
    "kernelspec": {
      "name": "python3",
      "display_name": "Python 3"
    },
    "language_info": {
      "name": "python"
    }
  },
  "cells": [
    {
      "cell_type": "markdown",
      "metadata": {
        "id": "view-in-github",
        "colab_type": "text"
      },
      "source": [
        "<a href=\"https://colab.research.google.com/github/cagBRT/Intro-to-Programming-with-Python/blob/master/A5b_Intro_to_Classes.ipynb\" target=\"_parent\"><img src=\"https://colab.research.google.com/assets/colab-badge.svg\" alt=\"Open In Colab\"/></a>"
      ]
    },
    {
      "cell_type": "markdown",
      "metadata": {
        "id": "ZkNRPUjrbjmI"
      },
      "source": [
        "# **Classes practice**"
      ]
    },
    {
      "cell_type": "markdown",
      "metadata": {
        "id": "wMzdKZl8boTC"
      },
      "source": [
        "**Assignment 1**<br>\n",
        "Create classes for the following situation: \n",
        "1. Every person who enters a museum buys a ticket. Save the ticket number and time of purchase\n",
        "\n",
        "2. Everyone entering the museum chooses one of three tour groups<br>\n",
        ">- Modern\n",
        ">- Neoclassicism\n",
        ">- Ancient\n",
        "\n",
        "3. Each customer gets a free gift with their ticket purchase: \n",
        ">- Modern: book or poster\n",
        ">- Neoclassicism: postcards or pen\n",
        ">- Ancient: book or postcards\n",
        "\n",
        "Write a program that:\n",
        "1. Prints the number of people that bought tickets\n",
        "2. Prints the number of people that attended each tour\n",
        "3. Prints the number of people who selected \n",
        "- the book\n",
        "- the poster\n",
        "- the postcards\n",
        "- the pen \n",
        "\n"
      ]
    },
    {
      "cell_type": "code",
      "metadata": {
        "id": "zpPExevNbdcC"
      },
      "source": [
        "#Assignment 1\n"
      ],
      "execution_count": null,
      "outputs": []
    }
  ]
}