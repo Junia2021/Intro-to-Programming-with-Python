{
  "nbformat": 4,
  "nbformat_minor": 0,
  "metadata": {
    "colab": {
      "name": "A3 IntroToClasses.ipynb",
      "private_outputs": true,
      "provenance": [],
      "authorship_tag": "ABX9TyOuaZkGPLgde0pQ/XHl9mS6",
      "include_colab_link": true
    },
    "kernelspec": {
      "name": "python3",
      "display_name": "Python 3"
    },
    "language_info": {
      "name": "python"
    }
  },
  "cells": [
    {
      "cell_type": "markdown",
      "metadata": {
        "id": "view-in-github",
        "colab_type": "text"
      },
      "source": [
        "<a href=\"https://colab.research.google.com/github/cagBRT/Intro-to-Programming-with-Python/blob/master/A3_IntroToClasses.ipynb\" target=\"_parent\"><img src=\"https://colab.research.google.com/assets/colab-badge.svg\" alt=\"Open In Colab\"/></a>"
      ]
    },
    {
      "cell_type": "markdown",
      "metadata": {
        "id": "u75rPTRmgnQa"
      },
      "source": [
        "# **Creating a simple class**"
      ]
    },
    {
      "cell_type": "code",
      "metadata": {
        "id": "OimS_PnQZVj_"
      },
      "source": [
        "class CourseNames:\n",
        "  \"class that prints names\" #optional comment\n",
        "  \n",
        "  #The class constructor\n",
        "  def __init__(self, name):\n",
        "    self.name = name\n",
        "\n",
        "  #A class method\n",
        "  def printName(self):\n",
        "    print(\"Name: \",self.name)"
      ],
      "execution_count": null,
      "outputs": []
    },
    {
      "cell_type": "markdown",
      "metadata": {
        "id": "oyI8CZ4SgrdT"
      },
      "source": [
        "# **Creating objects of the class**\n",
        "When an object is created, the class constructor is called\n"
      ]
    },
    {
      "cell_type": "code",
      "metadata": {
        "id": "eXmZBOHjf6T1"
      },
      "source": [
        "student1=CourseNames(\"Timmy\")"
      ],
      "execution_count": null,
      "outputs": []
    },
    {
      "cell_type": "markdown",
      "metadata": {
        "id": "eFHvRRtvhQzv"
      },
      "source": [
        "# **Accessing a class method**"
      ]
    },
    {
      "cell_type": "code",
      "metadata": {
        "id": "umKw7Vxnf-KR"
      },
      "source": [
        "student1.printName()"
      ],
      "execution_count": null,
      "outputs": []
    },
    {
      "cell_type": "code",
      "metadata": {
        "id": "odKWVO_rgMu9"
      },
      "source": [
        "student2=CourseNames(\"Lassie\")\n",
        "student2.printName()"
      ],
      "execution_count": null,
      "outputs": []
    },
    {
      "cell_type": "markdown",
      "metadata": {
        "id": "xlV_1ud_gxIP"
      },
      "source": [
        "**Assignment 1**<br>\n",
        "1. Create a class called TeamNames\n",
        "2. Create a class constructor\n",
        "3. Create a class method that prints a name of the team member\n",
        "4. Then create an object of the class\n",
        "5. Access the class method\n"
      ]
    },
    {
      "cell_type": "code",
      "metadata": {
        "id": "3mU4sGjTjD6t"
      },
      "source": [
        "#Assignment 1"
      ],
      "execution_count": null,
      "outputs": []
    },
    {
      "cell_type": "markdown",
      "metadata": {
        "id": "E6CaApVzjJD0"
      },
      "source": [
        "# **Adding class attributes**\n",
        "We can add additional information to objects in the class.\n",
        "For example: we can keep track of the number of students in the class"
      ]
    },
    {
      "cell_type": "code",
      "metadata": {
        "id": "ZvZrOArkgkFC"
      },
      "source": [
        "class EnrolledNames:\n",
        "  \"class that prints names\" #optional comment\n",
        "  #class suite\n",
        "  number_of_names=0\n",
        "\n",
        "  #we can keep track of the number students added to the class\n",
        "  def __init__(self, name):\n",
        "    self.name = name\n",
        "    EnrolledNames.number_of_names += 1\n",
        "\n",
        "  def printName(self):\n",
        "    print(\"Name:\",self.name)\n",
        "\n",
        "  #Print the number of students in the class\n",
        "  def printEnrollment(self):\n",
        "    print(\"total enrollment is: \", EnrolledNames.number_of_names)"
      ],
      "execution_count": null,
      "outputs": []
    },
    {
      "cell_type": "code",
      "metadata": {
        "id": "2clLISL7k145"
      },
      "source": [
        "enrolled1=EnrolledNames(\"Kali\")"
      ],
      "execution_count": null,
      "outputs": []
    },
    {
      "cell_type": "code",
      "metadata": {
        "id": "x2sj_eJDlIis"
      },
      "source": [
        "enrolled1.printName()"
      ],
      "execution_count": null,
      "outputs": []
    },
    {
      "cell_type": "code",
      "metadata": {
        "id": "Ed3tDvS8lM6g"
      },
      "source": [
        "enrolled1.printEnrollment()"
      ],
      "execution_count": null,
      "outputs": []
    },
    {
      "cell_type": "code",
      "metadata": {
        "id": "ML_wR2UomIrm"
      },
      "source": [
        "enrolled2=EnrolledNames(\"Sammy\")\n",
        "enrolled3=EnrolledNames(\"Hari\")"
      ],
      "execution_count": null,
      "outputs": []
    },
    {
      "cell_type": "code",
      "metadata": {
        "id": "9kN2WpYvmPNB"
      },
      "source": [
        "enrolled1.printEnrollment()"
      ],
      "execution_count": null,
      "outputs": []
    },
    {
      "cell_type": "code",
      "metadata": {
        "id": "9pWuw74Wfun3"
      },
      "source": [
        "class ClassNames:\n",
        "  \"class that prints names\" #optional comment\n",
        "  #class suite\n",
        "  number_of_names=0\n",
        "  enrollment_ID = 101\n",
        "\n",
        "  def __init__(self, name):\n",
        "    self.name = name\n",
        "    ClassNames.number_of_names += 1\n",
        "    ClassNames.enrollment_ID += 1\n",
        "\n",
        "  def printEnrollment(self):\n",
        "    print(\"total enrollment is: \", ClassNames.number_of_names)\n",
        "\n",
        "  def printName(self):\n",
        "    print(\"Name: \",self.name)\n",
        "\n",
        "  def printID(self):\n",
        "    print(\"enrollment ID: \", ClassNames.enrollment_ID)"
      ],
      "execution_count": null,
      "outputs": []
    },
    {
      "cell_type": "code",
      "metadata": {
        "id": "ndKZIJJabVX4"
      },
      "source": [
        "student1= ClassNames(\"suzie\")"
      ],
      "execution_count": null,
      "outputs": []
    },
    {
      "cell_type": "code",
      "metadata": {
        "id": "mxtc7XFkc3cF"
      },
      "source": [
        "student1.printName()"
      ],
      "execution_count": null,
      "outputs": []
    },
    {
      "cell_type": "code",
      "metadata": {
        "id": "4HrQjhp1cIp6"
      },
      "source": [
        "student1.printEnrollment()"
      ],
      "execution_count": null,
      "outputs": []
    },
    {
      "cell_type": "code",
      "metadata": {
        "id": "Huj1cvp3e8V-"
      },
      "source": [
        "student1.printID()"
      ],
      "execution_count": null,
      "outputs": []
    },
    {
      "cell_type": "code",
      "metadata": {
        "id": "fZfrmmCddwzh"
      },
      "source": [
        "student2= ClassNames(\"joe\")"
      ],
      "execution_count": null,
      "outputs": []
    },
    {
      "cell_type": "code",
      "metadata": {
        "id": "A3GLsGi2d4qI"
      },
      "source": [
        "student2.printName()"
      ],
      "execution_count": null,
      "outputs": []
    },
    {
      "cell_type": "code",
      "metadata": {
        "id": "QShMfgNNd8yQ"
      },
      "source": [
        "student2.printEnrollment()"
      ],
      "execution_count": null,
      "outputs": []
    },
    {
      "cell_type": "code",
      "metadata": {
        "id": "1w0563aZfOdb"
      },
      "source": [
        "student2.printID()"
      ],
      "execution_count": null,
      "outputs": []
    }
  ]
}