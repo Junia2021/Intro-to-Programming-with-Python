{
  "nbformat": 4,
  "nbformat_minor": 0,
  "metadata": {
    "colab": {
      "name": "A3 IntroToClasses.ipynb",
      "private_outputs": true,
      "provenance": [],
      "authorship_tag": "ABX9TyMgSWFeBoceYe2YjaQQ4Y7H",
      "include_colab_link": true
    },
    "kernelspec": {
      "name": "python3",
      "display_name": "Python 3"
    },
    "language_info": {
      "name": "python"
    }
  },
  "cells": [
    {
      "cell_type": "markdown",
      "metadata": {
        "id": "view-in-github",
        "colab_type": "text"
      },
      "source": [
        "<a href=\"https://colab.research.google.com/github/cagBRT/Intro-to-Programming-with-Python/blob/master/A3_IntroToClasses.ipynb\" target=\"_parent\"><img src=\"https://colab.research.google.com/assets/colab-badge.svg\" alt=\"Open In Colab\"/></a>"
      ]
    },
    {
      "cell_type": "markdown",
      "metadata": {
        "id": "u75rPTRmgnQa"
      },
      "source": [
        "# **Creating a simple class**"
      ]
    },
    {
      "cell_type": "code",
      "metadata": {
        "id": "OimS_PnQZVj_"
      },
      "source": [
        "class CourseNames:\n",
        "  \"class that prints names\" #optional comment\n",
        "  \n",
        "  #The class constructor\n",
        "  def __init__(self, name):\n",
        "    self.name = name\n",
        "\n",
        "  #A class method\n",
        "  def printName(self):\n",
        "    print(\"Name: \",self.name)"
      ],
      "execution_count": null,
      "outputs": []
    },
    {
      "cell_type": "markdown",
      "metadata": {
        "id": "oyI8CZ4SgrdT"
      },
      "source": [
        "# **Creating objects of the class**\n",
        "When an object is created, the class constructor is called\n"
      ]
    },
    {
      "cell_type": "code",
      "metadata": {
        "id": "eXmZBOHjf6T1"
      },
      "source": [
        "student1=CourseNames(\"Timmy\")"
      ],
      "execution_count": null,
      "outputs": []
    },
    {
      "cell_type": "markdown",
      "metadata": {
        "id": "eFHvRRtvhQzv"
      },
      "source": [
        "# **Accessing a class method**"
      ]
    },
    {
      "cell_type": "code",
      "metadata": {
        "id": "umKw7Vxnf-KR"
      },
      "source": [
        "student1.printName()"
      ],
      "execution_count": null,
      "outputs": []
    },
    {
      "cell_type": "code",
      "metadata": {
        "id": "odKWVO_rgMu9"
      },
      "source": [
        "student2=CourseNames(\"Lassie\")\n",
        "student2.printName()"
      ],
      "execution_count": null,
      "outputs": []
    },
    {
      "cell_type": "code",
      "metadata": {
        "id": "w7FHmozSmbNA"
      },
      "source": [
        "type(student1)"
      ],
      "execution_count": null,
      "outputs": []
    },
    {
      "cell_type": "markdown",
      "metadata": {
        "id": "7293vOIPtix8"
      },
      "source": [
        "**Assignment 1**<br>\n",
        "\n",
        "1. Create 3 more objects of the CourseNames class\n",
        "2. Print each student's information\n",
        "\n",
        "\n"
      ]
    },
    {
      "cell_type": "code",
      "metadata": {
        "id": "kRXv155Mt1B1"
      },
      "source": [
        "#Assignment 1"
      ],
      "execution_count": null,
      "outputs": []
    },
    {
      "cell_type": "markdown",
      "metadata": {
        "id": "xlV_1ud_gxIP"
      },
      "source": [
        "**Assignment 2**<br>\n",
        "1. Create a class called TeamNames\n",
        "2. Create a class constructor\n",
        "3. Create a class method that prints a name of the team member\n",
        "4. Then create an object of the class\n",
        "5. Access the class method\n"
      ]
    },
    {
      "cell_type": "code",
      "metadata": {
        "id": "3mU4sGjTjD6t"
      },
      "source": [
        "#Assignment 2"
      ],
      "execution_count": null,
      "outputs": []
    },
    {
      "cell_type": "markdown",
      "metadata": {
        "id": "KzRBEAS-pZd3"
      },
      "source": [
        "# **Adding attributes to a class**"
      ]
    },
    {
      "cell_type": "code",
      "metadata": {
        "id": "9CXrO31dpeTL"
      },
      "source": [
        "class StudentInfo:\n",
        "  \"information on students\"\n",
        "  #class suite\n",
        "\n",
        "  #class constructor\n",
        "  def __init__(self, name, studentID, major):\n",
        "    self.name=name\n",
        "    self.studentID=studentID\n",
        "    self.major=major\n",
        "\n",
        "  #class methods\n",
        "  def printInfo(self):\n",
        "    print(\"Name:\", self.name,\"ID:\", self.studentID, \"Major:\", self.major)\n",
        "\n",
        "  def printName(self):\n",
        "    print(self.name)\n",
        "  \n",
        "  def printID(self):\n",
        "    print(self.studentID)\n",
        "\n",
        "  def printMajor(self):\n",
        "    print(self.major)"
      ],
      "execution_count": null,
      "outputs": []
    },
    {
      "cell_type": "code",
      "metadata": {
        "id": "BDfpyuuyqRlq"
      },
      "source": [
        "s1=StudentInfo(\"Bob Smith\", 122032, \"machine learning\")"
      ],
      "execution_count": null,
      "outputs": []
    },
    {
      "cell_type": "code",
      "metadata": {
        "id": "F-qcAc70qbky"
      },
      "source": [
        "s1.printInfo()"
      ],
      "execution_count": null,
      "outputs": []
    },
    {
      "cell_type": "code",
      "metadata": {
        "id": "RxuVNMk1rElz"
      },
      "source": [
        "s1.printName()"
      ],
      "execution_count": null,
      "outputs": []
    },
    {
      "cell_type": "code",
      "metadata": {
        "id": "FfGm66NYs9zI"
      },
      "source": [
        "s1.printID()"
      ],
      "execution_count": null,
      "outputs": []
    },
    {
      "cell_type": "code",
      "metadata": {
        "id": "ME_LS8nQtWZv"
      },
      "source": [
        "s1.printMajor()"
      ],
      "execution_count": null,
      "outputs": []
    },
    {
      "cell_type": "markdown",
      "metadata": {
        "id": "tzHHWOVauAmT"
      },
      "source": [
        "**Assignment 3**<br>\n",
        "1. Create 3 more objects of StudentInfo\n",
        "2. Access each of the methods for each student"
      ]
    },
    {
      "cell_type": "code",
      "metadata": {
        "id": "8l_iwehguWcL"
      },
      "source": [
        ""
      ],
      "execution_count": null,
      "outputs": []
    },
    {
      "cell_type": "markdown",
      "metadata": {
        "id": "aLalIoLLubDR"
      },
      "source": [
        "**Assignment 4**<br>\n",
        "1. Create a class called patientInfo\n",
        "2. The class should acccept 3 variables\n",
        "3. Create a class method to print all three variables\n",
        "4. Create class methodss to print each variable"
      ]
    },
    {
      "cell_type": "code",
      "metadata": {
        "id": "PlP5-ED7u1Qk"
      },
      "source": [
        "#Assignment 4"
      ],
      "execution_count": null,
      "outputs": []
    },
    {
      "cell_type": "markdown",
      "metadata": {
        "id": "h-_HPGwanLx_"
      },
      "source": [
        "\n",
        "\n",
        "---\n",
        "\n"
      ]
    },
    {
      "cell_type": "markdown",
      "metadata": {
        "id": "wdmd8WHmu_n5"
      },
      "source": [
        "# **Creating Class Methods**"
      ]
    },
    {
      "cell_type": "code",
      "metadata": {
        "id": "PR-DAbRNvHon"
      },
      "source": [
        "class Favorites:\n",
        "  \"class that tracks user favorites\"\n",
        "  def __init__(self, name, favs):\n",
        "    self.name=name\n",
        "    self.favs=favs\n",
        "\n",
        "  def printName(self):\n",
        "    print(self.name)\n",
        "\n",
        "  def printOneFavs(self,index):\n",
        "    print(self.favs[index])\n",
        "\n",
        "  def printAllFavs(self):\n",
        "    print(self.favs)\n",
        "\n",
        "  def printSomeFavs(self, start, stop):\n",
        "    for i in range(start, stop):\n",
        "      print(i, self.favs[i])"
      ],
      "execution_count": null,
      "outputs": []
    },
    {
      "cell_type": "code",
      "metadata": {
        "id": "5FJgqN8tyooH"
      },
      "source": [
        "favorites=[\"cat\", \"dog\", \"eel\", \"fish\", \"horse\"]"
      ],
      "execution_count": null,
      "outputs": []
    },
    {
      "cell_type": "code",
      "metadata": {
        "id": "NFIE5Ptryktm"
      },
      "source": [
        "user1=Favorites(\"kali\", favorites)"
      ],
      "execution_count": null,
      "outputs": []
    },
    {
      "cell_type": "code",
      "metadata": {
        "id": "yV0ASSe0yzfW"
      },
      "source": [
        "user1.printName()"
      ],
      "execution_count": null,
      "outputs": []
    },
    {
      "cell_type": "code",
      "metadata": {
        "id": "BpNOO7IP0Ymy"
      },
      "source": [
        "user1.printOneFavs(1)"
      ],
      "execution_count": null,
      "outputs": []
    },
    {
      "cell_type": "code",
      "metadata": {
        "id": "L1LBuqFx0wDb"
      },
      "source": [
        "user1.printAllFavs()"
      ],
      "execution_count": null,
      "outputs": []
    },
    {
      "cell_type": "code",
      "metadata": {
        "id": "kNK7sCeS1VzV"
      },
      "source": [
        "user1.printSomeFavs(1,3)"
      ],
      "execution_count": null,
      "outputs": []
    },
    {
      "cell_type": "markdown",
      "metadata": {
        "id": "qkw3yAVN2C_c"
      },
      "source": [
        "**Assignment 5**<br>\n",
        "1. Create a list of favorite colors\n",
        "2. Create an object"
      ]
    },
    {
      "cell_type": "markdown",
      "metadata": {
        "id": "E6CaApVzjJD0"
      },
      "source": [
        "# **Adding shared class attributes**\n",
        "We can add additional information to objects in the class.<br>\n",
        "For example: we can keep track of the number of students in the class<br>\n",
        "Adding a variable that is shared between all the instances"
      ]
    },
    {
      "cell_type": "code",
      "metadata": {
        "id": "ZvZrOArkgkFC"
      },
      "source": [
        "class EnrolledNames:\n",
        "  \"class that prints names\" #optional comment\n",
        "  #class suite\n",
        "  number_of_names=0\n",
        "\n",
        "  #we can keep track of the number students added to the class\n",
        "  #everytime an object is created, number_of_names is incremented\n",
        "  def __init__(self, name):\n",
        "    self.name = name\n",
        "    EnrolledNames.number_of_names += 1\n",
        "\n",
        "  def printName(self):\n",
        "    print(\"Name:\",self.name)\n",
        "\n",
        "  #Print the number of students in the class\n",
        "  def printEnrollment(self):\n",
        "    print(\"total enrollment is: \", EnrolledNames.number_of_names)"
      ],
      "execution_count": null,
      "outputs": []
    },
    {
      "cell_type": "code",
      "metadata": {
        "id": "2clLISL7k145"
      },
      "source": [
        "enrolled1=EnrolledNames(\"Kali\")"
      ],
      "execution_count": null,
      "outputs": []
    },
    {
      "cell_type": "code",
      "metadata": {
        "id": "x2sj_eJDlIis"
      },
      "source": [
        "enrolled1.printName()"
      ],
      "execution_count": null,
      "outputs": []
    },
    {
      "cell_type": "code",
      "metadata": {
        "id": "Ed3tDvS8lM6g"
      },
      "source": [
        "enrolled1.printEnrollment()"
      ],
      "execution_count": null,
      "outputs": []
    },
    {
      "cell_type": "code",
      "metadata": {
        "id": "ML_wR2UomIrm"
      },
      "source": [
        "enrolled2=EnrolledNames(\"Sammy\")\n",
        "enrolled3=EnrolledNames(\"Hari\")"
      ],
      "execution_count": null,
      "outputs": []
    },
    {
      "cell_type": "code",
      "metadata": {
        "id": "9kN2WpYvmPNB"
      },
      "source": [
        "enrolled1.printEnrollment()"
      ],
      "execution_count": null,
      "outputs": []
    },
    {
      "cell_type": "markdown",
      "metadata": {
        "id": "cWuD9geKmmMD"
      },
      "source": [
        "**Assignment 2**<br>\n",
        "1. Create a class called Shoppers\n",
        "2. The class should keep track of the shopper's name and number of shoppers created\n",
        "3. Create several objectss of the Shopper class"
      ]
    },
    {
      "cell_type": "code",
      "metadata": {
        "id": "osr-0iJCnH-Y"
      },
      "source": [
        "#Assignment 2"
      ],
      "execution_count": null,
      "outputs": []
    },
    {
      "cell_type": "markdown",
      "metadata": {
        "id": "rJrfl4lho2C2"
      },
      "source": [
        ""
      ]
    }
  ]
}