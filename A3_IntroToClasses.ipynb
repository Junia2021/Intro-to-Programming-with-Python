{
  "nbformat": 4,
  "nbformat_minor": 0,
  "metadata": {
    "colab": {
      "name": "A3 IntroToClasses.ipynb",
      "private_outputs": true,
      "provenance": [],
      "authorship_tag": "ABX9TyMVe1OKyzqbQAMdt20HCOfl",
      "include_colab_link": true
    },
    "kernelspec": {
      "name": "python3",
      "display_name": "Python 3"
    },
    "language_info": {
      "name": "python"
    }
  },
  "cells": [
    {
      "cell_type": "markdown",
      "metadata": {
        "id": "view-in-github",
        "colab_type": "text"
      },
      "source": [
        "<a href=\"https://colab.research.google.com/github/cagBRT/Intro-to-Programming-with-Python/blob/master/A3_IntroToClasses.ipynb\" target=\"_parent\"><img src=\"https://colab.research.google.com/assets/colab-badge.svg\" alt=\"Open In Colab\"/></a>"
      ]
    },
    {
      "cell_type": "code",
      "metadata": {
        "id": "PEsxZYhJltDp"
      },
      "source": [
        "# Clone the entire repo.\n",
        "!git clone -l -s https://github.com/cagBRT/Intro-to-Programming-with-Python.git cloned-repo\n",
        "%cd /content/cloned-repo/advanced_content"
      ],
      "execution_count": null,
      "outputs": []
    },
    {
      "cell_type": "code",
      "metadata": {
        "id": "ku3YeL5Dl4Hs"
      },
      "source": [
        "from IPython.display import Image\n",
        "def page(num):\n",
        "    return Image(\"classes\"+str(num)+ \".png\" , width=640)\n"
      ],
      "execution_count": null,
      "outputs": []
    },
    {
      "cell_type": "markdown",
      "metadata": {
        "id": "rtRDlTOVcfP5"
      },
      "source": [
        "# **Introduction to Object Oriented Programming**"
      ]
    },
    {
      "cell_type": "markdown",
      "metadata": {
        "id": "G2jjv8cygJKH"
      },
      "source": [
        "**Question**: <br>\n",
        "How would you structure the following information?<br>\n",
        ">Car1<br>\n",
        ">>Make: Toyota<br>\n",
        "Model: Rav4<br>\n",
        "Style: 4 door<br>\n",
        "Color: Silver<br>\n",
        "\n",
        "\n",
        ">Car2<br>\n",
        ">>Make: Toyota<br>\n",
        "Model: Rav4-electric<br>\n",
        "Style: 4 door<br>\n",
        "Color: Grey<br>\n",
        "\n",
        ">Car3<br>\n",
        ">>Make: Toyota<br>\n",
        "Model: Rav4<br>\n",
        "Style: 4 door<br>\n",
        "Color: Green<br>\n",
        "\n",
        ">Car4<br>\n",
        ">>Make: Toyota<br>\n",
        "Model: Rav4<br>\n",
        "Style: 2 door<br>\n",
        "Color: Grey<br>"
      ]
    },
    {
      "cell_type": "markdown",
      "metadata": {
        "id": "d3VPIup-mR-j"
      },
      "source": [
        "We could make a list of lists...."
      ]
    },
    {
      "cell_type": "code",
      "metadata": {
        "id": "YzBeIPtqgv-K"
      },
      "source": [
        "cars=[[\"toyota\",\"rav4\",\"4 door\",\"silver\"],[\"toyota\",\"rav4-electric\",\"4 door\",\"grey\"],\n",
        "      [\"toyota\",\"rav4\",\"4 door\",\"green\"],[\"toyota\",\"rav4\",\"2 door\",\"silver\"]]\n",
        "cars"
      ],
      "execution_count": null,
      "outputs": []
    },
    {
      "cell_type": "markdown",
      "metadata": {
        "id": "6O2g1ZHRhPv5"
      },
      "source": [
        "**Assignment 1**<br>\n",
        "1. Add another car to the list\n",
        "2. Change the color of the first car to green\n",
        "3. Change the car2 to a rav4-ex"
      ]
    },
    {
      "cell_type": "code",
      "metadata": {
        "id": "-UGQOJSNj-Zg"
      },
      "source": [
        "#Assignment 1"
      ],
      "execution_count": null,
      "outputs": []
    },
    {
      "cell_type": "markdown",
      "metadata": {
        "id": "plCQXEHUj9ei"
      },
      "source": [
        "Wouldn't it be nice be able to treat each car as an individual? <br>\n",
        "Where all the data was part of the car?<br>\n",
        "And we could change it as necessary?"
      ]
    },
    {
      "cell_type": "markdown",
      "metadata": {
        "id": "iv69iHchkUih"
      },
      "source": [
        "Well, we can. <br>\n",
        "We can use OOP. "
      ]
    },
    {
      "cell_type": "markdown",
      "metadata": {
        "id": "oOaTmT_OctFk"
      },
      "source": [
        "Object oriented programming (OOP) is a programming model that organizes software design based on objects. <br>\n",
        "\n",
        "The objects are defined with classes, which contain the object and data and functions associated with the object. "
      ]
    },
    {
      "cell_type": "markdown",
      "metadata": {
        "id": "r5d2W3sOmXs0"
      },
      "source": [
        "We can make an object called cars <br>\n",
        "Then store all the information about each car into each car object. <br>\n",
        "The treat each object as an individual datapoint."
      ]
    },
    {
      "cell_type": "code",
      "metadata": {
        "id": "izw-LmqMhPC1"
      },
      "source": [
        "Image(\"classes.png\")"
      ],
      "execution_count": null,
      "outputs": []
    },
    {
      "cell_type": "code",
      "metadata": {
        "cellView": "form",
        "id": "vX422cy-pzGM"
      },
      "source": [
        "#@title Cars Class\n",
        "class Cars:\n",
        "  \"class for cars\"\n",
        "  def __init__(self, make, model, style,color ):\n",
        "    self.make=make\n",
        "    self.model=model\n",
        "    self.style=style\n",
        "    self.color=color\n",
        "  \n",
        "  def print_info(self):\n",
        "    print(self.make,self.model,self.style,self.color)\n",
        "  def print_make(self):\n",
        "    print(self.make)\n",
        "  def print_make(self):\n",
        "    print(self.make)\n"
      ],
      "execution_count": null,
      "outputs": []
    },
    {
      "cell_type": "code",
      "metadata": {
        "id": "qYjqrwUAsM2J"
      },
      "source": [
        "car1=Cars(\"toyota\",\"rav4\",\"4 door\",\"silver\")\n",
        "car2=Cars(\"toyota\",\"rav4-electric\",\"4 door\",\"grey\")\n",
        "car3=Cars(\"toyota\",\"rav4\",\"4 door\",\"green\")\n",
        "car4=Cars(\"toyota\",\"rav4\",\"2 door\",\"silver\")\n",
        "\n",
        "print(\"car1 color:\", car1.color)\n",
        "print(\"car2 make:\", car1.make)"
      ],
      "execution_count": null,
      "outputs": []
    },
    {
      "cell_type": "markdown",
      "metadata": {
        "id": "_4JL6RYHeCWL"
      },
      "source": [
        "## **Basic Principles of OOP**<br>\n",
        "- **Encapsulation**: each object is defined by a class and maintains a private state within the class. The object and any data related to it can only be modified by the public methods defined within the class. \n",
        "- **Abstraction**: the details associated with each object is hidden until requested. <br>\n",
        "- **Inheritance**: one object can acquire the properties of another object. <br>\n",
        "Similar to a child inheriting a parents hair color or height.\n",
        "- **Polymorphism**: we can treat classes as themselves or as their parent class. "
      ]
    },
    {
      "cell_type": "markdown",
      "metadata": {
        "id": "u75rPTRmgnQa"
      },
      "source": [
        "# **Creating a simple class**"
      ]
    },
    {
      "cell_type": "markdown",
      "metadata": {
        "id": "CxZBu5jM1Gjn"
      },
      "source": [
        "**Class constructor**<br>\n",
        "Every time you create an instance of the class, the constructor is called and executed.<br>\n",
        "\n",
        " > #The class constructor<br>\n",
        "  def __init__(self, name):<br>\n",
        "    >>self.name = name"
      ]
    },
    {
      "cell_type": "code",
      "metadata": {
        "id": "OimS_PnQZVj_"
      },
      "source": [
        "class CourseNames:\n",
        "  \"class that prints names\" #optional comment\n",
        "  \n",
        "  #The class constructor\n",
        "  def __init__(self, name):\n",
        "    self.name = name"
      ],
      "execution_count": null,
      "outputs": []
    },
    {
      "cell_type": "markdown",
      "metadata": {
        "id": "oyI8CZ4SgrdT"
      },
      "source": [
        "# **Creating objects of the class**\n",
        "When an object is created, the class constructor is called\n"
      ]
    },
    {
      "cell_type": "code",
      "metadata": {
        "id": "eXmZBOHjf6T1"
      },
      "source": [
        "student1=CourseNames(\"Timmy\")"
      ],
      "execution_count": null,
      "outputs": []
    },
    {
      "cell_type": "markdown",
      "metadata": {
        "id": "eFHvRRtvhQzv"
      },
      "source": [
        "# **Accessing class data**"
      ]
    },
    {
      "cell_type": "code",
      "metadata": {
        "id": "umKw7Vxnf-KR"
      },
      "source": [
        "print(student1.name)"
      ],
      "execution_count": null,
      "outputs": []
    },
    {
      "cell_type": "code",
      "metadata": {
        "id": "odKWVO_rgMu9"
      },
      "source": [
        "student2=CourseNames(\"Lassie\")\n",
        "print(student2.name)"
      ],
      "execution_count": null,
      "outputs": []
    },
    {
      "cell_type": "code",
      "metadata": {
        "id": "w7FHmozSmbNA"
      },
      "source": [
        "type(student1)"
      ],
      "execution_count": null,
      "outputs": []
    },
    {
      "cell_type": "markdown",
      "metadata": {
        "id": "7293vOIPtix8"
      },
      "source": [
        "**Assignment 1**<br>\n",
        "\n",
        "1. Create 3 more objects of the CourseNames class\n",
        "2. Print each student's information\n",
        "\n",
        "\n"
      ]
    },
    {
      "cell_type": "code",
      "metadata": {
        "id": "kRXv155Mt1B1"
      },
      "source": [
        "#Assignment 1"
      ],
      "execution_count": null,
      "outputs": []
    },
    {
      "cell_type": "markdown",
      "metadata": {
        "id": "xlV_1ud_gxIP"
      },
      "source": [
        "**Assignment 2**<br>\n",
        "1. Create a class called TeamNames\n",
        "2. Create a class constructor\n",
        "3. Create a class method that prints a name of the team member\n",
        "4. Then create an object of the class\n",
        "5. Access the class method\n"
      ]
    },
    {
      "cell_type": "code",
      "metadata": {
        "id": "3mU4sGjTjD6t"
      },
      "source": [
        "#Assignment 2"
      ],
      "execution_count": null,
      "outputs": []
    },
    {
      "cell_type": "markdown",
      "metadata": {
        "id": "KzRBEAS-pZd3"
      },
      "source": [
        "# **Adding attributes to a class**"
      ]
    },
    {
      "cell_type": "code",
      "metadata": {
        "id": "9CXrO31dpeTL"
      },
      "source": [
        "class StudentInfo:\n",
        "  \"information on students\"\n",
        "  #class suite\n",
        "\n",
        "  #class constructor\n",
        "  def __init__(self, name, studentID, major):\n",
        "    self.name=name\n",
        "    self.studentID=studentID\n",
        "    self.major=major\n",
        "\n",
        "  #class methods\n",
        "  def printInfo(self):\n",
        "    print(\"Name:\", self.name,\"ID:\", self.studentID, \"Major:\", self.major)"
      ],
      "execution_count": null,
      "outputs": []
    },
    {
      "cell_type": "code",
      "metadata": {
        "id": "BDfpyuuyqRlq"
      },
      "source": [
        "s1=StudentInfo(\"Bob Smith\", 122032, \"machine learning\")"
      ],
      "execution_count": null,
      "outputs": []
    },
    {
      "cell_type": "code",
      "metadata": {
        "id": "F-qcAc70qbky"
      },
      "source": [
        "s1.printInfo()"
      ],
      "execution_count": null,
      "outputs": []
    },
    {
      "cell_type": "code",
      "metadata": {
        "id": "RxuVNMk1rElz"
      },
      "source": [
        "print(s1.name)"
      ],
      "execution_count": null,
      "outputs": []
    },
    {
      "cell_type": "code",
      "metadata": {
        "id": "FfGm66NYs9zI"
      },
      "source": [
        "print(s1.studentID)"
      ],
      "execution_count": null,
      "outputs": []
    },
    {
      "cell_type": "code",
      "metadata": {
        "id": "ME_LS8nQtWZv"
      },
      "source": [
        "print(s1.major)"
      ],
      "execution_count": null,
      "outputs": []
    },
    {
      "cell_type": "markdown",
      "metadata": {
        "id": "tzHHWOVauAmT"
      },
      "source": [
        "**Assignment 3**<br>\n",
        "1. Create 3 more objects of StudentInfo\n",
        "2. Access each of the methods for each student"
      ]
    },
    {
      "cell_type": "code",
      "metadata": {
        "id": "8l_iwehguWcL"
      },
      "source": [
        ""
      ],
      "execution_count": null,
      "outputs": []
    },
    {
      "cell_type": "markdown",
      "metadata": {
        "id": "aLalIoLLubDR"
      },
      "source": [
        "**Assignment 4**<br>\n",
        "1. Create a class called patientInfo\n",
        "2. The class should acccept 3 variables\n",
        "3. Create a class method to print all three variables\n",
        "4. Create class methodss to print each variable"
      ]
    },
    {
      "cell_type": "code",
      "metadata": {
        "id": "PlP5-ED7u1Qk"
      },
      "source": [
        "#Assignment 4"
      ],
      "execution_count": null,
      "outputs": []
    },
    {
      "cell_type": "markdown",
      "metadata": {
        "id": "h-_HPGwanLx_"
      },
      "source": [
        "\n",
        "\n",
        "---\n",
        "\n"
      ]
    },
    {
      "cell_type": "markdown",
      "metadata": {
        "id": "wdmd8WHmu_n5"
      },
      "source": [
        "# **Creating Class Methods**"
      ]
    },
    {
      "cell_type": "code",
      "metadata": {
        "id": "PR-DAbRNvHon"
      },
      "source": [
        "class Favorites:\n",
        "  \"class that tracks user favorites\"\n",
        "  def __init__(self, name, favs):\n",
        "    self.name=name\n",
        "    self.favs=favs\n",
        "\n",
        "  def printInfo(self):\n",
        "    print(self.name,\":\",self.favs)\n",
        "\n",
        "  def printOneFavs(self,index):\n",
        "    print(self.favs[index])\n",
        "\n",
        "  def printAllFavs(self):\n",
        "    print(self.favs)\n",
        "\n",
        "  def printSomeFavs(self, start, stop):\n",
        "    for i in range(start, stop):\n",
        "      print(i, self.favs[i])"
      ],
      "execution_count": null,
      "outputs": []
    },
    {
      "cell_type": "code",
      "metadata": {
        "id": "5FJgqN8tyooH"
      },
      "source": [
        "favorites=[\"cat\", \"dog\", \"eel\", \"fish\", \"horse\"]"
      ],
      "execution_count": null,
      "outputs": []
    },
    {
      "cell_type": "code",
      "metadata": {
        "id": "NFIE5Ptryktm"
      },
      "source": [
        "user1=Favorites(\"kali\", favorites)"
      ],
      "execution_count": null,
      "outputs": []
    },
    {
      "cell_type": "code",
      "metadata": {
        "id": "yV0ASSe0yzfW"
      },
      "source": [
        "user1.printInfo()"
      ],
      "execution_count": null,
      "outputs": []
    },
    {
      "cell_type": "code",
      "metadata": {
        "id": "BpNOO7IP0Ymy"
      },
      "source": [
        "user1.printOneFavs(1)"
      ],
      "execution_count": null,
      "outputs": []
    },
    {
      "cell_type": "code",
      "metadata": {
        "id": "L1LBuqFx0wDb"
      },
      "source": [
        "user1.printAllFavs()"
      ],
      "execution_count": null,
      "outputs": []
    },
    {
      "cell_type": "code",
      "metadata": {
        "id": "kNK7sCeS1VzV"
      },
      "source": [
        "user1.printSomeFavs(1,3)"
      ],
      "execution_count": null,
      "outputs": []
    },
    {
      "cell_type": "markdown",
      "metadata": {
        "id": "qkw3yAVN2C_c"
      },
      "source": [
        "**Assignment 5**<br>\n",
        "1. Create a list of favorite colors\n",
        "2. Create an instance of Favorites\n",
        "3. Access all the methods of the class"
      ]
    },
    {
      "cell_type": "code",
      "metadata": {
        "id": "B8yQ8vpk5i0w"
      },
      "source": [
        "#Assignment 5"
      ],
      "execution_count": null,
      "outputs": []
    },
    {
      "cell_type": "markdown",
      "metadata": {
        "id": "8Za8Cva23rb6"
      },
      "source": [
        "**Assignment 6**<br>\n",
        "1. Create a class that accepts a name and a list of numbers<br>\n",
        "2. Create a method for the class that doubles all the elements in the list.\n",
        "3. Create a method that prints every other element of the list. \n",
        "4. Write a program that shows the class and functions work as expected. "
      ]
    },
    {
      "cell_type": "code",
      "metadata": {
        "id": "d9J2M3kl4i5q"
      },
      "source": [
        "#Assignment 6"
      ],
      "execution_count": null,
      "outputs": []
    },
    {
      "cell_type": "markdown",
      "metadata": {
        "id": "gLSEbF3R4oDA"
      },
      "source": [
        "\n",
        "\n",
        "---\n",
        "\n"
      ]
    },
    {
      "cell_type": "markdown",
      "metadata": {
        "id": "E6CaApVzjJD0"
      },
      "source": [
        "# **Adding shared class attributes**\n",
        "We can add additional information to objects in the class.<br>\n",
        "For example: we can keep track of the number of students in the class<br>\n",
        "Adding a variable that is shared between all the instances"
      ]
    },
    {
      "cell_type": "code",
      "metadata": {
        "id": "ZvZrOArkgkFC"
      },
      "source": [
        "class EnrolledNames:\n",
        "  \"class that prints names\" #optional comment\n",
        "  #class suite\n",
        "  number_of_names=0\n",
        "\n",
        "  #we can keep track of the number students added to the class\n",
        "  #everytime an object is created, number_of_names is incremented\n",
        "  def __init__(self, name):\n",
        "    self.name = name\n",
        "    EnrolledNames.number_of_names += 1\n",
        "\n",
        "  def printName(self):\n",
        "    print(\"Name:\",self.name)\n",
        "\n",
        "  #Print the number of students in the class\n",
        "  def printEnrollment(self):\n",
        "    print(\"total enrollment is: \", EnrolledNames.number_of_names)"
      ],
      "execution_count": null,
      "outputs": []
    },
    {
      "cell_type": "code",
      "metadata": {
        "id": "2clLISL7k145"
      },
      "source": [
        "enrolled1=EnrolledNames(\"Kali\")"
      ],
      "execution_count": null,
      "outputs": []
    },
    {
      "cell_type": "code",
      "metadata": {
        "id": "x2sj_eJDlIis"
      },
      "source": [
        "enrolled1.printName()"
      ],
      "execution_count": null,
      "outputs": []
    },
    {
      "cell_type": "code",
      "metadata": {
        "id": "Ed3tDvS8lM6g"
      },
      "source": [
        "enrolled1.printEnrollment()"
      ],
      "execution_count": null,
      "outputs": []
    },
    {
      "cell_type": "code",
      "metadata": {
        "id": "ML_wR2UomIrm"
      },
      "source": [
        "enrolled2=EnrolledNames(\"Sammy\")\n",
        "enrolled3=EnrolledNames(\"Hari\")"
      ],
      "execution_count": null,
      "outputs": []
    },
    {
      "cell_type": "code",
      "metadata": {
        "id": "9kN2WpYvmPNB"
      },
      "source": [
        "enrolled1.printEnrollment()"
      ],
      "execution_count": null,
      "outputs": []
    },
    {
      "cell_type": "markdown",
      "metadata": {
        "id": "cWuD9geKmmMD"
      },
      "source": [
        "**Assignment 6**<br>\n",
        "1. Create a class called Shoppers\n",
        "2. The class should keep track of the shopper's name and number of shoppers created\n",
        "3. Create several objectss of the Shopper class"
      ]
    },
    {
      "cell_type": "code",
      "metadata": {
        "id": "osr-0iJCnH-Y"
      },
      "source": [
        "#Assignment 7"
      ],
      "execution_count": null,
      "outputs": []
    }
  ]
}