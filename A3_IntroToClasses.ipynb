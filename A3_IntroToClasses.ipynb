{
  "nbformat": 4,
  "nbformat_minor": 0,
  "metadata": {
    "colab": {
      "name": "A3 IntroToClasses.ipynb",
      "private_outputs": true,
      "provenance": [],
      "authorship_tag": "ABX9TyPzcMLCskJQ9xLBPPykTFRm",
      "include_colab_link": true
    },
    "kernelspec": {
      "name": "python3",
      "display_name": "Python 3"
    },
    "language_info": {
      "name": "python"
    }
  },
  "cells": [
    {
      "cell_type": "markdown",
      "metadata": {
        "id": "view-in-github",
        "colab_type": "text"
      },
      "source": [
        "<a href=\"https://colab.research.google.com/github/cagBRT/Intro-to-Programming-with-Python/blob/master/A3_IntroToClasses.ipynb\" target=\"_parent\"><img src=\"https://colab.research.google.com/assets/colab-badge.svg\" alt=\"Open In Colab\"/></a>"
      ]
    },
    {
      "cell_type": "code",
      "metadata": {
        "id": "OimS_PnQZVj_"
      },
      "source": [
        "class ClassNames:\n",
        "  \"class that prints names\" #optional comment\n",
        "  #class suite\n",
        "  number_of_names=0\n",
        "\n",
        "  def __init__(self, name):\n",
        "    self.name = name\n",
        "    ClassNames.number_of_names += 1\n",
        "  \n",
        "  def printEnrollment(self):\n",
        "    print(\"total enrollment is: \", ClassNames.number_of_names)\n",
        "\n",
        "  def printName(self):\n",
        "    print(\"Name: \",self.name)"
      ],
      "execution_count": null,
      "outputs": []
    },
    {
      "cell_type": "code",
      "metadata": {
        "id": "ndKZIJJabVX4"
      },
      "source": [
        "student1= ClassNames(\"suzie\")"
      ],
      "execution_count": null,
      "outputs": []
    },
    {
      "cell_type": "code",
      "metadata": {
        "id": "mxtc7XFkc3cF"
      },
      "source": [
        "student1.printName()"
      ],
      "execution_count": null,
      "outputs": []
    },
    {
      "cell_type": "code",
      "metadata": {
        "id": "4HrQjhp1cIp6"
      },
      "source": [
        "student1.printEnrollment()"
      ],
      "execution_count": null,
      "outputs": []
    },
    {
      "cell_type": "code",
      "metadata": {
        "id": "fZfrmmCddwzh"
      },
      "source": [
        "student2= ClassNames(\"joe\")"
      ],
      "execution_count": null,
      "outputs": []
    },
    {
      "cell_type": "code",
      "metadata": {
        "id": "A3GLsGi2d4qI"
      },
      "source": [
        "student1.printName()"
      ],
      "execution_count": null,
      "outputs": []
    },
    {
      "cell_type": "code",
      "metadata": {
        "id": "QShMfgNNd8yQ"
      },
      "source": [
        "student1.printEnrollment()"
      ],
      "execution_count": null,
      "outputs": []
    }
  ]
}