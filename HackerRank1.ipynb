{
  "nbformat": 4,
  "nbformat_minor": 0,
  "metadata": {
    "colab": {
      "name": "HackerRank1.ipynb",
      "provenance": [],
      "private_outputs": true,
      "authorship_tag": "ABX9TyNglbBhXic2dFFoqOD5rRKZ",
      "include_colab_link": true
    },
    "kernelspec": {
      "name": "python3",
      "display_name": "Python 3"
    }
  },
  "cells": [
    {
      "cell_type": "markdown",
      "metadata": {
        "id": "view-in-github",
        "colab_type": "text"
      },
      "source": [
        "<a href=\"https://colab.research.google.com/github/cagBRT/Intro-to-Programming-with-Python/blob/master/HackerRank1.ipynb\" target=\"_parent\"><img src=\"https://colab.research.google.com/assets/colab-badge.svg\" alt=\"Open In Colab\"/></a>"
      ]
    },
    {
      "cell_type": "markdown",
      "metadata": {
        "id": "iaoEqAkHFB0_",
        "colab_type": "text"
      },
      "source": [
        "**Example 1**"
      ]
    },
    {
      "cell_type": "code",
      "metadata": {
        "id": "11V_SzGxb2iQ",
        "colab_type": "code",
        "colab": {},
        "cellView": "form"
      },
      "source": [
        "#@title \n",
        "#!/bin/python3\n",
        "import math\n",
        "import os\n",
        "import random\n",
        "import re\n",
        "import sys\n",
        "from random import randrange"
      ],
      "execution_count": null,
      "outputs": []
    },
    {
      "cell_type": "code",
      "metadata": {
        "id": "kcxlu1iRD3Iu",
        "colab_type": "code",
        "colab": {},
        "cellView": "form"
      },
      "source": [
        "#@title\n",
        "n = randrange(10)"
      ],
      "execution_count": null,
      "outputs": []
    },
    {
      "cell_type": "code",
      "metadata": {
        "id": "_X6mO-JhbzN9",
        "colab_type": "code",
        "colab": {}
      },
      "source": [
        "#\n",
        "# Complete the 'test' function below.\n",
        "#\n",
        "# The function accepts a LIST n as parameter.\n",
        "# The function adds 20 to n and prints the sum\n",
        "\n",
        "def test(n):\n",
        "  # Write your code here\n",
        "  \n"
      ],
      "execution_count": null,
      "outputs": []
    },
    {
      "cell_type": "code",
      "metadata": {
        "id": "PEghRuJqIzZj",
        "colab_type": "code",
        "colab": {},
        "cellView": "form"
      },
      "source": [
        "#@title \n",
        "test(n)"
      ],
      "execution_count": null,
      "outputs": []
    },
    {
      "cell_type": "markdown",
      "metadata": {
        "id": "lYnx0jZrFEP3",
        "colab_type": "text"
      },
      "source": [
        "**Example 2**"
      ]
    },
    {
      "cell_type": "code",
      "metadata": {
        "colab_type": "code",
        "cellView": "form",
        "id": "l8tA5VcGHg3T",
        "colab": {}
      },
      "source": [
        "#@title\n",
        "n = randrange(10)"
      ],
      "execution_count": null,
      "outputs": []
    },
    {
      "cell_type": "code",
      "metadata": {
        "id": "7aNaVxTsFGAN",
        "colab_type": "code",
        "colab": {}
      },
      "source": [
        "#\n",
        "# Complete the 'test' function below.\n",
        "#\n",
        "# The function accepts INTEGER n as parameter.\n",
        "# The function adds 20 to n and returns the value to the main program\n",
        "\n",
        "def test(n):\n",
        "  # Write your code here\n",
        "  return n + 20\n"
      ],
      "execution_count": null,
      "outputs": []
    },
    {
      "cell_type": "code",
      "metadata": {
        "id": "ESdUJT_7FTgN",
        "colab_type": "code",
        "colab": {},
        "cellView": "form"
      },
      "source": [
        "#@title \n",
        "output = test(n)\n",
        "print(output)"
      ],
      "execution_count": null,
      "outputs": []
    },
    {
      "cell_type": "markdown",
      "metadata": {
        "id": "WTgIUbM3HpG1",
        "colab_type": "text"
      },
      "source": [
        "**Example 3**"
      ]
    },
    {
      "cell_type": "code",
      "metadata": {
        "colab_type": "code",
        "cellView": "form",
        "id": "-iOMxfZ2Hsa9",
        "colab": {}
      },
      "source": [
        "#@title\n",
        "n = [2,3,4,5,6,10]"
      ],
      "execution_count": null,
      "outputs": []
    },
    {
      "cell_type": "code",
      "metadata": {
        "id": "S4b7pZN2JNxu",
        "colab_type": "code",
        "colab": {}
      },
      "source": [
        "#\n",
        "# Complete the 'test' function below.\n",
        "#\n",
        "# The function accepts LIST n as parameter.\n",
        "# The function adds 5 to each value in the list\n",
        "#Then returns the list\n",
        "\n",
        "def test(n):\n",
        "  # Write your code here\n"
      ],
      "execution_count": null,
      "outputs": []
    },
    {
      "cell_type": "code",
      "metadata": {
        "id": "rLJUXP7-Hs5B",
        "colab_type": "code",
        "colab": {},
        "cellView": "form"
      },
      "source": [
        "#@title \n",
        "output = test(n)\n",
        "print(output)"
      ],
      "execution_count": null,
      "outputs": []
    },
    {
      "cell_type": "markdown",
      "metadata": {
        "id": "ULVeEYPAKFTS",
        "colab_type": "text"
      },
      "source": [
        "**Example 4**"
      ]
    },
    {
      "cell_type": "code",
      "metadata": {
        "id": "CghS9OdPKIhr",
        "colab_type": "code",
        "colab": {},
        "cellView": "form"
      },
      "source": [
        "#@title \n",
        "n = [\"\",\"\",\"\",\"\",\"\",\"\"]\n",
        "\n",
        "n[0] = \"Man\"\n",
        "n[1] = \"man\"\n",
        "n[2] = \"man\"\n",
        "n[3] = \"woMan\"\n",
        "n[4] = \"WoMan\"\n",
        "n[5] = \"WOMAn\""
      ],
      "execution_count": null,
      "outputs": []
    },
    {
      "cell_type": "code",
      "metadata": {
        "id": "Hx5SpIemLIzn",
        "colab_type": "code",
        "colab": {}
      },
      "source": [
        "#\n",
        "# Complete the 'test' function below.\n",
        "#\n",
        "# The function accepts a LIST n as parameter.\n",
        "# Count the number of times the word woman appears in the list \n",
        "#**Note: the word woman can be in uppercase, or lowercase, or a mix of cases \n",
        "#Then return the count \n",
        "\n",
        "def test(n):\n",
        "# Write your code here "
      ],
      "execution_count": null,
      "outputs": []
    },
    {
      "cell_type": "code",
      "metadata": {
        "id": "wraPC8KVMXnX",
        "colab_type": "code",
        "colab": {}
      },
      "source": [
        "count_woman = test(n)\n",
        "print(count_woman)"
      ],
      "execution_count": null,
      "outputs": []
    },
    {
      "cell_type": "markdown",
      "metadata": {
        "id": "p5fnXfjBOTus",
        "colab_type": "text"
      },
      "source": [
        "**Example 5**"
      ]
    },
    {
      "cell_type": "code",
      "metadata": {
        "id": "P2KI5msHOi-1",
        "colab_type": "code",
        "colab": {},
        "cellView": "form"
      },
      "source": [
        "#@title \n",
        "x = 3\n",
        "y = 2\n",
        "\n",
        "n = [[1 for j in range(y)] for i in range(x)]\n",
        "n[0][0] = \"Joe\"\n",
        "n[1][0] = \"Sam\"\n",
        "n[2][0] = \"Jim\"\n",
        "n[0][1] = 3.2\n",
        "n[1][1] = 2.1\n",
        "n[2][1] = 4.6\n",
        "print(n)"
      ],
      "execution_count": null,
      "outputs": []
    },
    {
      "cell_type": "code",
      "metadata": {
        "id": "ieDUOC2XOjUv",
        "colab_type": "code",
        "colab": {}
      },
      "source": [
        "#\n",
        "# Complete the 'test' function below.\n",
        "#\n",
        "# The function accepts a 2 dimensional LIST n as parameter.\n",
        "# The list has the format string, float for each row\n",
        "# Return the average of the floats\n",
        "\n",
        "def test(n):\n",
        "# Write your code here \n"
      ],
      "execution_count": null,
      "outputs": []
    },
    {
      "cell_type": "code",
      "metadata": {
        "id": "i40ko8lvOjiP",
        "colab_type": "code",
        "colab": {},
        "cellView": "form"
      },
      "source": [
        "#@title \n",
        "print(\"average = \" , test(n))"
      ],
      "execution_count": null,
      "outputs": []
    }
  ]
}