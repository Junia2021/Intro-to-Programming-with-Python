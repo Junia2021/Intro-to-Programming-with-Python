{
  "nbformat": 4,
  "nbformat_minor": 0,
  "metadata": {
    "colab": {
      "name": "A6 Intro to Classes.ipynb",
      "private_outputs": true,
      "provenance": [],
      "authorship_tag": "ABX9TyMNYbqykl5sbvonCy61oX3s",
      "include_colab_link": true
    },
    "kernelspec": {
      "name": "python3",
      "display_name": "Python 3"
    },
    "language_info": {
      "name": "python"
    }
  },
  "cells": [
    {
      "cell_type": "markdown",
      "metadata": {
        "id": "view-in-github",
        "colab_type": "text"
      },
      "source": [
        "<a href=\"https://colab.research.google.com/github/cagBRT/Intro-to-Programming-with-Python/blob/master/A6_Intro_to_Classes.ipynb\" target=\"_parent\"><img src=\"https://colab.research.google.com/assets/colab-badge.svg\" alt=\"Open In Colab\"/></a>"
      ]
    },
    {
      "cell_type": "code",
      "metadata": {
        "id": "g5bXckPjQHbp"
      },
      "source": [
        "!git clone -l -s https://github.com/cagBRT/Intro-to-Programming-with-Python.git cloned-repo\n",
        "%cd cloned-repo"
      ],
      "execution_count": null,
      "outputs": []
    },
    {
      "cell_type": "code",
      "metadata": {
        "id": "5SFT8YdyVEUZ"
      },
      "source": [
        "from IPython.display import Image\n",
        "def page(num):\n",
        "    return Image(\"advanced_content/Inheritance\"+str(num)+ \".png\" , width=500)"
      ],
      "execution_count": null,
      "outputs": []
    },
    {
      "cell_type": "markdown",
      "metadata": {
        "id": "ZdLlc-JCPUiW"
      },
      "source": [
        "# **Inheritance**<br>\n",
        "With object oriented programming our classes can have relationships with each other. This is done by creating base and derived classes. <br>\n",
        "Python supports inheritance and it’s one of the few languages that supports multiple inheritance "
      ]
    },
    {
      "cell_type": "markdown",
      "metadata": {
        "id": "nX8vjSYWQhgY"
      },
      "source": [
        "- Classes that inherit from another are called derived classes, subclasses, or subtypes.<br>\n",
        "- Classes from which other classes are derived are called base classes or super classes.<br>\n",
        "- A derived class is said to derive, inherit, or extend a base class."
      ]
    },
    {
      "cell_type": "code",
      "metadata": {
        "id": "Rhg4LHaOVdyo"
      },
      "source": [
        "page(1)"
      ],
      "execution_count": null,
      "outputs": []
    },
    {
      "cell_type": "markdown",
      "metadata": {
        "id": "9h-n6Fpu7Wfb"
      },
      "source": [
        "A base or parent class is the class being inherited from, also called base class.\n",
        "\n",
        "A derived or child class is the class that inherits from another class, also called derived class.\n",
        "\n"
      ]
    },
    {
      "cell_type": "markdown",
      "metadata": {
        "id": "FX-Vl1DZ7YwT"
      },
      "source": [
        "**Create a Class**<br>\n",
        "We'll create a class called University_Person and when we derive a class from it, it will become a parent class.  "
      ]
    },
    {
      "cell_type": "code",
      "metadata": {
        "id": "AeDBDJPE7KXF"
      },
      "source": [
        "class University_Person:\n",
        "  def __init__(self, name, id):\n",
        "    self.name = name\n",
        "    self.id = id\n",
        "    print(\"in constructor\")\n",
        "\n",
        "  def print_info(self):\n",
        "    print(self.name, self.id)  "
      ],
      "execution_count": null,
      "outputs": []
    },
    {
      "cell_type": "code",
      "metadata": {
        "id": "BvflofQf7yIm"
      },
      "source": [
        "u1=University_Person(\"John Doe\", 777)\n",
        "u1.print_info()"
      ],
      "execution_count": null,
      "outputs": []
    },
    {
      "cell_type": "markdown",
      "metadata": {
        "id": "LRENKnxZ79wa"
      },
      "source": [
        "**Create a child class**<br>\n",
        "Create a child class by using University_Person as a parent class. <br>\n",
        "To create a class that inherits the functionality from another class, send the parent class as a parameter when creating the child class:"
      ]
    },
    {
      "cell_type": "code",
      "metadata": {
        "id": "GxRHvlLN8SKP"
      },
      "source": [
        "class Student(University_Person):\n",
        "  pass"
      ],
      "execution_count": null,
      "outputs": []
    },
    {
      "cell_type": "code",
      "metadata": {
        "id": "fv07Gt_88n8B"
      },
      "source": [
        "s1=Student(\"Tommy Smith\",888)\n",
        "s1.print_info()"
      ],
      "execution_count": null,
      "outputs": []
    },
    {
      "cell_type": "markdown",
      "metadata": {
        "id": "JEkAhIMK9Lnw"
      },
      "source": [
        "If we add the init fuction to the child class it will no longer inherit from the parent. <br>\n",
        "\n",
        "The child constructor overrides the parent constructor"
      ]
    },
    {
      "cell_type": "code",
      "metadata": {
        "id": "6SpGujTN9Khx"
      },
      "source": [
        "class Student(University_Person):\n",
        "  def __init__(self, major):\n",
        "    self.major=major"
      ],
      "execution_count": null,
      "outputs": []
    },
    {
      "cell_type": "code",
      "metadata": {
        "id": "MaNeUWNtGxwU"
      },
      "source": [
        "s2=Student(\"Bill\", 3323,\"Art\")"
      ],
      "execution_count": null,
      "outputs": []
    },
    {
      "cell_type": "markdown",
      "metadata": {
        "id": "9kr_B-VLHCRj"
      },
      "source": [
        "To add properties to a child class, call the parent constructor"
      ]
    },
    {
      "cell_type": "code",
      "metadata": {
        "id": "Y5BdLvyqHB0u"
      },
      "source": [
        "class Student(University_Person):\n",
        "  def __init__(self, name, id):\n",
        "    University_Person.__init__(self, name, id)"
      ],
      "execution_count": null,
      "outputs": []
    },
    {
      "cell_type": "code",
      "metadata": {
        "id": "V_mvvSX9HnFe"
      },
      "source": [
        "s2=Student(\"Bill\", 3323)\n",
        "s2.print_info()"
      ],
      "execution_count": null,
      "outputs": []
    },
    {
      "cell_type": "markdown",
      "metadata": {
        "id": "7rol5Kw8Hxqj"
      },
      "source": [
        "Using the super() function<br>\n",
        "super() function that will make the child class inherit all the methods and properties from its parent<br>\n",
        "The super function means you do not have to use the name of the parent element, it will automatically inherit the methods and properties from its parent"
      ]
    },
    {
      "cell_type": "code",
      "metadata": {
        "id": "SQ8HW9JyH4_B"
      },
      "source": [
        "class Student(University_Person):\n",
        "  def __init__(self,name, id):\n",
        "    super().__init__(name, id)"
      ],
      "execution_count": null,
      "outputs": []
    },
    {
      "cell_type": "code",
      "metadata": {
        "id": "NTQTmuEDHx2x"
      },
      "source": [
        "s3=Student(\"joe\",4444)\n",
        "s3.print_info()"
      ],
      "execution_count": null,
      "outputs": []
    },
    {
      "cell_type": "code",
      "metadata": {
        "id": "XyqnoJbGIYQ8"
      },
      "source": [
        "class Student(University_Person):\n",
        "  def __init__(self, name, id, major):\n",
        "    super().__init__(name, id)\n",
        "    self.major=major"
      ],
      "execution_count": null,
      "outputs": []
    },
    {
      "cell_type": "code",
      "metadata": {
        "id": "1TNcHjl8I-7K"
      },
      "source": [
        "s4=Student(\"may\",3432,\"math\")\n",
        "s4.print_info()"
      ],
      "execution_count": null,
      "outputs": []
    },
    {
      "cell_type": "markdown",
      "metadata": {
        "id": "tSPwzFh6JPWN"
      },
      "source": [
        "To create a print_info for Student"
      ]
    },
    {
      "cell_type": "code",
      "metadata": {
        "id": "U_EeO468JPgx"
      },
      "source": [
        "class Student(University_Person):\n",
        "  def __init__(self,name, id,major):\n",
        "    super().__init__(name, id)\n",
        "    self.major = major\n",
        "\n",
        "  def print_info(self):\n",
        "    print(self.name, self.id, self.major)"
      ],
      "execution_count": null,
      "outputs": []
    },
    {
      "cell_type": "code",
      "metadata": {
        "id": "sJYOmBj5Jq-N"
      },
      "source": [
        "s5=Student(\"Lee\",3434,\"PE\")\n",
        "s5.print_info()"
      ],
      "execution_count": null,
      "outputs": []
    },
    {
      "cell_type": "markdown",
      "metadata": {
        "id": "5fz0_sKaKIRt"
      },
      "source": [
        "Why do this?"
      ]
    },
    {
      "cell_type": "code",
      "metadata": {
        "id": "5k87YHbBKLSI"
      },
      "source": [
        "class University_Person:\n",
        "  population_u = 0\n",
        "\n",
        "  def __init__(self, name, id):\n",
        "    self.name = name\n",
        "    self.id = id\n",
        "    University_Person.population_u += 1\n",
        "    print(\"in constructor\")\n",
        "\n",
        "  def print_info(self):\n",
        "    print(self.name, self.id) \n",
        "\n",
        "  def print_population(self):\n",
        "    print(University_Person.population_u) "
      ],
      "execution_count": null,
      "outputs": []
    },
    {
      "cell_type": "code",
      "metadata": {
        "id": "h9_Rj70XKrWd"
      },
      "source": [
        "class Student(University_Person):\n",
        "  population_s = 0\n",
        "  def __init__(self,name, id,major):\n",
        "    super().__init__(name, id)\n",
        "    self.major = major\n",
        "    Student.population_s += 1\n",
        "\n",
        "  def print_info(self):\n",
        "    print(self.name, self.id, self.major)\n",
        "  \n",
        "  def print_population(self):\n",
        "    print(Student.population_s)"
      ],
      "execution_count": null,
      "outputs": []
    },
    {
      "cell_type": "code",
      "metadata": {
        "id": "g_qtlTkXKspD"
      },
      "source": [
        "u1=University_Person(\"joe\",11111)\n",
        "s1=Student(\"karen\",99999,\"Art\")\n"
      ],
      "execution_count": null,
      "outputs": []
    },
    {
      "cell_type": "code",
      "metadata": {
        "id": "4zwCNnMcLHjT"
      },
      "source": [
        "u1.print_population()"
      ],
      "execution_count": null,
      "outputs": []
    },
    {
      "cell_type": "code",
      "metadata": {
        "id": "aPIxuIgyLlIb"
      },
      "source": [
        "s1.print_population()"
      ],
      "execution_count": null,
      "outputs": []
    },
    {
      "cell_type": "code",
      "metadata": {
        "id": "KIm4S50VNVJI"
      },
      "source": [
        "class Professor(University_Person):\n",
        "  population_p = 0\n",
        "  def __init__(self,name, id,subject):\n",
        "    super().__init__(name, id)\n",
        "    self.subject = subject\n",
        "    Professor.population_p += 1\n",
        "\n",
        "  def print_info(self):\n",
        "    print(self.name, self.id, self.subject)\n",
        "  \n",
        "  def print_population(self):\n",
        "    print(Professor.population_p)"
      ],
      "execution_count": null,
      "outputs": []
    },
    {
      "cell_type": "code",
      "metadata": {
        "id": "jba9OZufNfwo"
      },
      "source": [
        "p1=Professor(\"dr smith\",2343,\"Ancient Arts\")"
      ],
      "execution_count": null,
      "outputs": []
    },
    {
      "cell_type": "code",
      "metadata": {
        "id": "qQiZEqKYNp_f"
      },
      "source": [
        "p1.print_info()"
      ],
      "execution_count": null,
      "outputs": []
    },
    {
      "cell_type": "code",
      "metadata": {
        "id": "QVvyakuVNtSv"
      },
      "source": [
        "print(u1.population_u)\n",
        "print(s1.population_s)\n",
        "print(p1.population_p)"
      ],
      "execution_count": null,
      "outputs": []
    }
  ]
}