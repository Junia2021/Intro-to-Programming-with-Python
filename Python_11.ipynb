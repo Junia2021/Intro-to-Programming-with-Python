{
  "nbformat": 4,
  "nbformat_minor": 0,
  "metadata": {
    "colab": {
      "name": "Python 11.ipynb",
      "provenance": [],
      "private_outputs": true,
      "authorship_tag": "ABX9TyMS2Dy88pUEI2dO7zH29SQI",
      "include_colab_link": true
    },
    "kernelspec": {
      "name": "python3",
      "display_name": "Python 3"
    }
  },
  "cells": [
    {
      "cell_type": "markdown",
      "metadata": {
        "id": "view-in-github",
        "colab_type": "text"
      },
      "source": [
        "<a href=\"https://colab.research.google.com/github/cagBRT/Intro-to-Programming-with-Python/blob/master/Python_11.ipynb\" target=\"_parent\"><img src=\"https://colab.research.google.com/assets/colab-badge.svg\" alt=\"Open In Colab\"/></a>"
      ]
    },
    {
      "cell_type": "markdown",
      "metadata": {
        "id": "ESmTVYt37mJa",
        "colab_type": "text"
      },
      "source": [
        "# **Python Try-Except-Else**"
      ]
    },
    {
      "cell_type": "markdown",
      "metadata": {
        "id": "Dql2-L8v7tOk",
        "colab_type": "text"
      },
      "source": [
        "Use try-except-else when you want to easily handle exceptions."
      ]
    },
    {
      "cell_type": "markdown",
      "metadata": {
        "id": "8azyevqe8Iml",
        "colab_type": "text"
      },
      "source": [
        "Check user input"
      ]
    },
    {
      "cell_type": "code",
      "metadata": {
        "id": "rlUurmwU7lH8",
        "colab_type": "code",
        "colab": {}
      },
      "source": [
        "user_in = input(\"Enter an integer: \")\n",
        "#user_in is a string, you need to convert type to integer\n",
        "#this will cause an error if user_in cannot be converted \n",
        "#to an integer\n",
        "user_in = int(user_in)"
      ],
      "execution_count": null,
      "outputs": []
    },
    {
      "cell_type": "code",
      "metadata": {
        "id": "_Vh0Y8xDIkR3",
        "colab_type": "code",
        "colab": {}
      },
      "source": [
        "user_in = input(\"Enter a float: \")\n",
        "if user_in.isnumeric():\n",
        "  print(\"Its a float\")\n",
        "  #this will not work if the number is a float\n",
        "  user_in = float(user_in)\n",
        "else:\n",
        "  print(\"not a float\")"
      ],
      "execution_count": null,
      "outputs": []
    },
    {
      "cell_type": "code",
      "metadata": {
        "id": "xNje0Cnumr8i",
        "colab_type": "code",
        "colab": {}
      },
      "source": [
        "user_in = input(\"Enter a float: \")\n",
        "if user_in.isnumeric():\n",
        "  print(\"Its an integer?\")\n",
        "  #this will fail if the number is a float\n",
        "  user_in = float(user_in)\n",
        "elif \".\" in user_in:\n",
        "  print(\"this is a float!\")\n",
        "  user_in = float(user_in)\n",
        "else:\n",
        "  #there will be an error if the user enters 4e by mistake\n",
        "  print(\"not an integer or a float\")\n",
        "  print(\"user input: \" ,user_in)"
      ],
      "execution_count": null,
      "outputs": []
    }
  ]
}