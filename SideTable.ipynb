{
  "nbformat": 4,
  "nbformat_minor": 0,
  "metadata": {
    "colab": {
      "name": "SideTable.ipynb",
      "provenance": [],
      "include_colab_link": true
    },
    "kernelspec": {
      "name": "python3",
      "display_name": "Python 3"
    }
  },
  "cells": [
    {
      "cell_type": "markdown",
      "metadata": {
        "id": "view-in-github",
        "colab_type": "text"
      },
      "source": [
        "<a href=\"https://colab.research.google.com/github/cagBRT/Intro-to-Programming-with-Python/blob/master/SideTable.ipynb\" target=\"_parent\"><img src=\"https://colab.research.google.com/assets/colab-badge.svg\" alt=\"Open In Colab\"/></a>"
      ]
    },
    {
      "cell_type": "markdown",
      "metadata": {
        "id": "Tv3fSOgAC88T",
        "colab_type": "text"
      },
      "source": [
        "This notebook demonstrates some of the uses of Sidetable, a Python library.\n",
        "https://pbpython.com/sidetable.html\n"
      ]
    },
    {
      "cell_type": "code",
      "metadata": {
        "id": "KzHWIf8uBGWT",
        "colab_type": "code",
        "colab": {
          "base_uri": "https://localhost:8080/",
          "height": 397
        },
        "outputId": "a5a176f5-6df9-4caa-e6cf-73a423b5df1e"
      },
      "source": [
        "\n",
        "# Clone the entire repo.\n",
        "!git clone -l -s https://github.com/cagBRT/Intro-to-Programming-with-Python.git cloned-repo\n",
        "%cd cloned-repo\n",
        "!ls"
      ],
      "execution_count": 1,
      "outputs": [
        {
          "output_type": "stream",
          "text": [
            "Cloning into 'cloned-repo'...\n",
            "warning: --local is ignored\n",
            "remote: Enumerating objects: 133, done.\u001b[K\n",
            "remote: Counting objects: 100% (133/133), done.\u001b[K\n",
            "remote: Compressing objects: 100% (133/133), done.\u001b[K\n",
            "remote: Total 674 (delta 74), reused 0 (delta 0), pack-reused 541\u001b[K\n",
            "Receiving objects: 100% (674/674), 9.54 MiB | 6.61 MiB/s, done.\n",
            "Resolving deltas: 100% (363/363), done.\n",
            "/content/cloned-repo\n",
            "C10_Intro_to_Python.ipynb      c6-content\n",
            "C_11_Intro_to_Python.ipynb     C6_Intro_to_Python.ipynb\n",
            "c1-content\t\t       C7_1_Intro_to_Python.ipynb\n",
            "C1_Intro_to_Python.ipynb       C7_2_Intro_to_Python.ipynb\n",
            "c2-content\t\t       c7-content\n",
            "C2_IntroToMLProgramming.ipynb  c8-content\n",
            "c3-content\t\t       C8_Intro_to_Python.ipynb\n",
            "C3_Intro_To_Python.ipynb       C9_Intro_to_Python.ipynb\n",
            "c4-content\t\t       data_files\n",
            "C4_Intro_to_Python.ipynb       README.md\n",
            "c5-content\t\t       stinkbug.png\n",
            "C5_Intro_to_Python.ipynb       USA_cars_datasets.csv\n",
            "C6_2_Intro_to_Python.ipynb\n"
          ],
          "name": "stdout"
        }
      ]
    },
    {
      "cell_type": "markdown",
      "metadata": {
        "id": "9rUn7YiPimsI",
        "colab_type": "text"
      },
      "source": [
        "**Install sidetable**\n"
      ]
    },
    {
      "cell_type": "code",
      "metadata": {
        "id": "1drI-pTog080",
        "colab_type": "code",
        "outputId": "532e6abb-0d5e-4a4c-b636-ff6d9e478b21",
        "colab": {
          "base_uri": "https://localhost:8080/",
          "height": 279
        }
      },
      "source": [
        "!pip install sidetable"
      ],
      "execution_count": 2,
      "outputs": [
        {
          "output_type": "stream",
          "text": [
            "Collecting sidetable\n",
            "  Downloading https://files.pythonhosted.org/packages/45/cf/d9d6ea5785788b0e748336657f60d0e73e372b4b4f25e461f0096d11b850/sidetable-0.3.0.tar.gz\n",
            "Requirement already satisfied: pandas>=1.0 in /usr/local/lib/python3.6/dist-packages (from sidetable) (1.0.4)\n",
            "Requirement already satisfied: python-dateutil>=2.6.1 in /usr/local/lib/python3.6/dist-packages (from pandas>=1.0->sidetable) (2.8.1)\n",
            "Requirement already satisfied: numpy>=1.13.3 in /usr/local/lib/python3.6/dist-packages (from pandas>=1.0->sidetable) (1.18.5)\n",
            "Requirement already satisfied: pytz>=2017.2 in /usr/local/lib/python3.6/dist-packages (from pandas>=1.0->sidetable) (2018.9)\n",
            "Requirement already satisfied: six>=1.5 in /usr/local/lib/python3.6/dist-packages (from python-dateutil>=2.6.1->pandas>=1.0->sidetable) (1.12.0)\n",
            "Building wheels for collected packages: sidetable\n",
            "  Building wheel for sidetable (setup.py) ... \u001b[?25l\u001b[?25hdone\n",
            "  Created wheel for sidetable: filename=sidetable-0.3.0-cp36-none-any.whl size=9391 sha256=125e493203bd30792efcee3bcde2d18716776ce2c70499cf38c97d8aa175f51f\n",
            "  Stored in directory: /root/.cache/pip/wheels/cb/89/c8/8523a369438a97da6e37ade1cf5bb7ba6f7638a42ebc22594c\n",
            "Successfully built sidetable\n",
            "Installing collected packages: sidetable\n",
            "Successfully installed sidetable-0.3.0\n"
          ],
          "name": "stdout"
        }
      ]
    },
    {
      "cell_type": "code",
      "metadata": {
        "id": "0i9bRaA5g-ff",
        "colab_type": "code",
        "colab": {}
      },
      "source": [
        "import pandas as pd\n",
        "import sidetable"
      ],
      "execution_count": 0,
      "outputs": []
    },
    {
      "cell_type": "markdown",
      "metadata": {
        "id": "eXEVOwD3BSP5",
        "colab_type": "text"
      },
      "source": [
        "**Get data**\n",
        "<br>Load the data as a pandas dataframe"
      ]
    },
    {
      "cell_type": "code",
      "metadata": {
        "id": "Fz3UeRgGhCJW",
        "colab_type": "code",
        "outputId": "2f1cbe0a-5aa5-4128-bafe-7b4a15b52cc2",
        "colab": {
          "base_uri": "https://localhost:8080/",
          "height": 198
        }
      },
      "source": [
        "df = pd.read_csv(\"USA_cars_datasets.csv\")\n",
        "#drop redundant columns\n",
        "df.drop(['Unnamed: 0','vin','lot'], axis=1, inplace=True)\n",
        "df.head()"
      ],
      "execution_count": 5,
      "outputs": [
        {
          "output_type": "execute_result",
          "data": {
            "text/html": [
              "<div>\n",
              "<style scoped>\n",
              "    .dataframe tbody tr th:only-of-type {\n",
              "        vertical-align: middle;\n",
              "    }\n",
              "\n",
              "    .dataframe tbody tr th {\n",
              "        vertical-align: top;\n",
              "    }\n",
              "\n",
              "    .dataframe thead th {\n",
              "        text-align: right;\n",
              "    }\n",
              "</style>\n",
              "<table border=\"1\" class=\"dataframe\">\n",
              "  <thead>\n",
              "    <tr style=\"text-align: right;\">\n",
              "      <th></th>\n",
              "      <th>price</th>\n",
              "      <th>brand</th>\n",
              "      <th>model</th>\n",
              "      <th>year</th>\n",
              "      <th>title_status</th>\n",
              "      <th>mileage</th>\n",
              "      <th>color</th>\n",
              "      <th>state</th>\n",
              "      <th>country</th>\n",
              "      <th>condition</th>\n",
              "    </tr>\n",
              "  </thead>\n",
              "  <tbody>\n",
              "    <tr>\n",
              "      <th>0</th>\n",
              "      <td>6300</td>\n",
              "      <td>toyota</td>\n",
              "      <td>cruiser</td>\n",
              "      <td>2008</td>\n",
              "      <td>clean vehicle</td>\n",
              "      <td>274117.0</td>\n",
              "      <td>black</td>\n",
              "      <td>new jersey</td>\n",
              "      <td>usa</td>\n",
              "      <td>10 days left</td>\n",
              "    </tr>\n",
              "    <tr>\n",
              "      <th>1</th>\n",
              "      <td>2899</td>\n",
              "      <td>ford</td>\n",
              "      <td>se</td>\n",
              "      <td>2011</td>\n",
              "      <td>clean vehicle</td>\n",
              "      <td>190552.0</td>\n",
              "      <td>silver</td>\n",
              "      <td>tennessee</td>\n",
              "      <td>usa</td>\n",
              "      <td>6 days left</td>\n",
              "    </tr>\n",
              "    <tr>\n",
              "      <th>2</th>\n",
              "      <td>5350</td>\n",
              "      <td>dodge</td>\n",
              "      <td>mpv</td>\n",
              "      <td>2018</td>\n",
              "      <td>clean vehicle</td>\n",
              "      <td>39590.0</td>\n",
              "      <td>silver</td>\n",
              "      <td>georgia</td>\n",
              "      <td>usa</td>\n",
              "      <td>2 days left</td>\n",
              "    </tr>\n",
              "    <tr>\n",
              "      <th>3</th>\n",
              "      <td>25000</td>\n",
              "      <td>ford</td>\n",
              "      <td>door</td>\n",
              "      <td>2014</td>\n",
              "      <td>clean vehicle</td>\n",
              "      <td>64146.0</td>\n",
              "      <td>blue</td>\n",
              "      <td>virginia</td>\n",
              "      <td>usa</td>\n",
              "      <td>22 hours left</td>\n",
              "    </tr>\n",
              "    <tr>\n",
              "      <th>4</th>\n",
              "      <td>27700</td>\n",
              "      <td>chevrolet</td>\n",
              "      <td>1500</td>\n",
              "      <td>2018</td>\n",
              "      <td>clean vehicle</td>\n",
              "      <td>6654.0</td>\n",
              "      <td>red</td>\n",
              "      <td>florida</td>\n",
              "      <td>usa</td>\n",
              "      <td>22 hours left</td>\n",
              "    </tr>\n",
              "  </tbody>\n",
              "</table>\n",
              "</div>"
            ],
            "text/plain": [
              "   price      brand    model  year  ...   color       state country      condition\n",
              "0   6300     toyota  cruiser  2008  ...   black  new jersey     usa   10 days left\n",
              "1   2899       ford       se  2011  ...  silver   tennessee     usa    6 days left\n",
              "2   5350      dodge      mpv  2018  ...  silver     georgia     usa    2 days left\n",
              "3  25000       ford     door  2014  ...    blue    virginia     usa  22 hours left\n",
              "4  27700  chevrolet     1500  2018  ...     red     florida     usa  22 hours left\n",
              "\n",
              "[5 rows x 10 columns]"
            ]
          },
          "metadata": {
            "tags": []
          },
          "execution_count": 5
        }
      ]
    },
    {
      "cell_type": "code",
      "metadata": {
        "id": "ljkOeOVQB1n4",
        "colab_type": "code",
        "colab": {
          "base_uri": "https://localhost:8080/",
          "height": 35
        },
        "outputId": "d55942ad-b7e9-418c-b7d2-0856d26aec61"
      },
      "source": [
        "df.shape"
      ],
      "execution_count": 10,
      "outputs": [
        {
          "output_type": "execute_result",
          "data": {
            "text/plain": [
              "(2499, 10)"
            ]
          },
          "metadata": {
            "tags": []
          },
          "execution_count": 10
        }
      ]
    },
    {
      "cell_type": "markdown",
      "metadata": {
        "id": "XNWulH0hBoSy",
        "colab_type": "text"
      },
      "source": [
        "Use sidetable to determine percent  of total of each car brand"
      ]
    },
    {
      "cell_type": "code",
      "metadata": {
        "id": "BvGNiZh3h0i4",
        "colab_type": "code",
        "outputId": "050b5a26-b82c-49f6-8051-fba23ab0ef0b",
        "colab": {
          "base_uri": "https://localhost:8080/",
          "height": 348
        }
      },
      "source": [
        "df.stb.freq(['brand'])[:10]"
      ],
      "execution_count": 8,
      "outputs": [
        {
          "output_type": "execute_result",
          "data": {
            "text/html": [
              "<div>\n",
              "<style scoped>\n",
              "    .dataframe tbody tr th:only-of-type {\n",
              "        vertical-align: middle;\n",
              "    }\n",
              "\n",
              "    .dataframe tbody tr th {\n",
              "        vertical-align: top;\n",
              "    }\n",
              "\n",
              "    .dataframe thead th {\n",
              "        text-align: right;\n",
              "    }\n",
              "</style>\n",
              "<table border=\"1\" class=\"dataframe\">\n",
              "  <thead>\n",
              "    <tr style=\"text-align: right;\">\n",
              "      <th></th>\n",
              "      <th>brand</th>\n",
              "      <th>Count</th>\n",
              "      <th>Percent</th>\n",
              "      <th>Cumulative Count</th>\n",
              "      <th>Cumulative Percent</th>\n",
              "    </tr>\n",
              "  </thead>\n",
              "  <tbody>\n",
              "    <tr>\n",
              "      <th>0</th>\n",
              "      <td>ford</td>\n",
              "      <td>1235</td>\n",
              "      <td>0.494198</td>\n",
              "      <td>1235</td>\n",
              "      <td>0.494198</td>\n",
              "    </tr>\n",
              "    <tr>\n",
              "      <th>1</th>\n",
              "      <td>dodge</td>\n",
              "      <td>432</td>\n",
              "      <td>0.172869</td>\n",
              "      <td>1667</td>\n",
              "      <td>0.667067</td>\n",
              "    </tr>\n",
              "    <tr>\n",
              "      <th>2</th>\n",
              "      <td>nissan</td>\n",
              "      <td>312</td>\n",
              "      <td>0.124850</td>\n",
              "      <td>1979</td>\n",
              "      <td>0.791917</td>\n",
              "    </tr>\n",
              "    <tr>\n",
              "      <th>3</th>\n",
              "      <td>chevrolet</td>\n",
              "      <td>297</td>\n",
              "      <td>0.118848</td>\n",
              "      <td>2276</td>\n",
              "      <td>0.910764</td>\n",
              "    </tr>\n",
              "    <tr>\n",
              "      <th>4</th>\n",
              "      <td>gmc</td>\n",
              "      <td>42</td>\n",
              "      <td>0.016807</td>\n",
              "      <td>2318</td>\n",
              "      <td>0.927571</td>\n",
              "    </tr>\n",
              "    <tr>\n",
              "      <th>5</th>\n",
              "      <td>jeep</td>\n",
              "      <td>30</td>\n",
              "      <td>0.012005</td>\n",
              "      <td>2348</td>\n",
              "      <td>0.939576</td>\n",
              "    </tr>\n",
              "    <tr>\n",
              "      <th>6</th>\n",
              "      <td>chrysler</td>\n",
              "      <td>18</td>\n",
              "      <td>0.007203</td>\n",
              "      <td>2366</td>\n",
              "      <td>0.946779</td>\n",
              "    </tr>\n",
              "    <tr>\n",
              "      <th>7</th>\n",
              "      <td>bmw</td>\n",
              "      <td>17</td>\n",
              "      <td>0.006803</td>\n",
              "      <td>2383</td>\n",
              "      <td>0.953581</td>\n",
              "    </tr>\n",
              "    <tr>\n",
              "      <th>8</th>\n",
              "      <td>hyundai</td>\n",
              "      <td>15</td>\n",
              "      <td>0.006002</td>\n",
              "      <td>2398</td>\n",
              "      <td>0.959584</td>\n",
              "    </tr>\n",
              "    <tr>\n",
              "      <th>9</th>\n",
              "      <td>kia</td>\n",
              "      <td>13</td>\n",
              "      <td>0.005202</td>\n",
              "      <td>2411</td>\n",
              "      <td>0.964786</td>\n",
              "    </tr>\n",
              "  </tbody>\n",
              "</table>\n",
              "</div>"
            ],
            "text/plain": [
              "       brand  Count   Percent  Cumulative Count  Cumulative Percent\n",
              "0       ford   1235  0.494198              1235            0.494198\n",
              "1      dodge    432  0.172869              1667            0.667067\n",
              "2     nissan    312  0.124850              1979            0.791917\n",
              "3  chevrolet    297  0.118848              2276            0.910764\n",
              "4        gmc     42  0.016807              2318            0.927571\n",
              "5       jeep     30  0.012005              2348            0.939576\n",
              "6   chrysler     18  0.007203              2366            0.946779\n",
              "7        bmw     17  0.006803              2383            0.953581\n",
              "8    hyundai     15  0.006002              2398            0.959584\n",
              "9        kia     13  0.005202              2411            0.964786"
            ]
          },
          "metadata": {
            "tags": []
          },
          "execution_count": 8
        }
      ]
    },
    {
      "cell_type": "markdown",
      "metadata": {
        "id": "m9f8azVhCOOi",
        "colab_type": "text"
      },
      "source": [
        "Use sidetable to determine top three brands vs other brands"
      ]
    },
    {
      "cell_type": "code",
      "metadata": {
        "id": "K7ZrIt02iB9_",
        "colab_type": "code",
        "outputId": "ea3d5e34-84bc-4413-f337-3dbfedc70950",
        "colab": {
          "base_uri": "https://localhost:8080/",
          "height": 168
        }
      },
      "source": [
        "df.stb.freq(['brand'], thresh=.8, other_label='other brands')"
      ],
      "execution_count": 18,
      "outputs": [
        {
          "output_type": "execute_result",
          "data": {
            "text/html": [
              "<div>\n",
              "<style scoped>\n",
              "    .dataframe tbody tr th:only-of-type {\n",
              "        vertical-align: middle;\n",
              "    }\n",
              "\n",
              "    .dataframe tbody tr th {\n",
              "        vertical-align: top;\n",
              "    }\n",
              "\n",
              "    .dataframe thead th {\n",
              "        text-align: right;\n",
              "    }\n",
              "</style>\n",
              "<table border=\"1\" class=\"dataframe\">\n",
              "  <thead>\n",
              "    <tr style=\"text-align: right;\">\n",
              "      <th></th>\n",
              "      <th>brand</th>\n",
              "      <th>Count</th>\n",
              "      <th>Percent</th>\n",
              "      <th>Cumulative Count</th>\n",
              "      <th>Cumulative Percent</th>\n",
              "    </tr>\n",
              "  </thead>\n",
              "  <tbody>\n",
              "    <tr>\n",
              "      <th>0</th>\n",
              "      <td>ford</td>\n",
              "      <td>1235</td>\n",
              "      <td>0.494198</td>\n",
              "      <td>1235</td>\n",
              "      <td>0.494198</td>\n",
              "    </tr>\n",
              "    <tr>\n",
              "      <th>1</th>\n",
              "      <td>dodge</td>\n",
              "      <td>432</td>\n",
              "      <td>0.172869</td>\n",
              "      <td>1667</td>\n",
              "      <td>0.667067</td>\n",
              "    </tr>\n",
              "    <tr>\n",
              "      <th>2</th>\n",
              "      <td>nissan</td>\n",
              "      <td>312</td>\n",
              "      <td>0.124850</td>\n",
              "      <td>1979</td>\n",
              "      <td>0.791917</td>\n",
              "    </tr>\n",
              "    <tr>\n",
              "      <th>3</th>\n",
              "      <td>other brands</td>\n",
              "      <td>520</td>\n",
              "      <td>0.208083</td>\n",
              "      <td>2499</td>\n",
              "      <td>1.000000</td>\n",
              "    </tr>\n",
              "  </tbody>\n",
              "</table>\n",
              "</div>"
            ],
            "text/plain": [
              "          brand  Count   Percent  Cumulative Count  Cumulative Percent\n",
              "0          ford   1235  0.494198              1235            0.494198\n",
              "1         dodge    432  0.172869              1667            0.667067\n",
              "2        nissan    312  0.124850              1979            0.791917\n",
              "3  other brands    520  0.208083              2499            1.000000"
            ]
          },
          "metadata": {
            "tags": []
          },
          "execution_count": 18
        }
      ]
    },
    {
      "cell_type": "code",
      "metadata": {
        "id": "o3mBEgqaiMeO",
        "colab_type": "code",
        "outputId": "d710efc5-a2b1-44ce-c441-83cfdeae20d4",
        "colab": {
          "base_uri": "https://localhost:8080/",
          "height": 228
        }
      },
      "source": [
        "df.stb.freq(['brand','year'], thresh=.5)"
      ],
      "execution_count": 20,
      "outputs": [
        {
          "output_type": "execute_result",
          "data": {
            "text/html": [
              "<div>\n",
              "<style scoped>\n",
              "    .dataframe tbody tr th:only-of-type {\n",
              "        vertical-align: middle;\n",
              "    }\n",
              "\n",
              "    .dataframe tbody tr th {\n",
              "        vertical-align: top;\n",
              "    }\n",
              "\n",
              "    .dataframe thead th {\n",
              "        text-align: right;\n",
              "    }\n",
              "</style>\n",
              "<table border=\"1\" class=\"dataframe\">\n",
              "  <thead>\n",
              "    <tr style=\"text-align: right;\">\n",
              "      <th></th>\n",
              "      <th>brand</th>\n",
              "      <th>year</th>\n",
              "      <th>Count</th>\n",
              "      <th>Percent</th>\n",
              "      <th>Cumulative Count</th>\n",
              "      <th>Cumulative Percent</th>\n",
              "    </tr>\n",
              "  </thead>\n",
              "  <tbody>\n",
              "    <tr>\n",
              "      <th>0</th>\n",
              "      <td>ford</td>\n",
              "      <td>2019</td>\n",
              "      <td>476</td>\n",
              "      <td>0.190476</td>\n",
              "      <td>476</td>\n",
              "      <td>0.190476</td>\n",
              "    </tr>\n",
              "    <tr>\n",
              "      <th>1</th>\n",
              "      <td>dodge</td>\n",
              "      <td>2019</td>\n",
              "      <td>226</td>\n",
              "      <td>0.090436</td>\n",
              "      <td>702</td>\n",
              "      <td>0.280912</td>\n",
              "    </tr>\n",
              "    <tr>\n",
              "      <th>2</th>\n",
              "      <td>ford</td>\n",
              "      <td>2017</td>\n",
              "      <td>178</td>\n",
              "      <td>0.071228</td>\n",
              "      <td>880</td>\n",
              "      <td>0.352141</td>\n",
              "    </tr>\n",
              "    <tr>\n",
              "      <th>3</th>\n",
              "      <td>ford</td>\n",
              "      <td>2018</td>\n",
              "      <td>148</td>\n",
              "      <td>0.059224</td>\n",
              "      <td>1028</td>\n",
              "      <td>0.411365</td>\n",
              "    </tr>\n",
              "    <tr>\n",
              "      <th>4</th>\n",
              "      <td>nissan</td>\n",
              "      <td>2018</td>\n",
              "      <td>131</td>\n",
              "      <td>0.052421</td>\n",
              "      <td>1159</td>\n",
              "      <td>0.463786</td>\n",
              "    </tr>\n",
              "    <tr>\n",
              "      <th>5</th>\n",
              "      <td>Others</td>\n",
              "      <td>Others</td>\n",
              "      <td>1340</td>\n",
              "      <td>0.536214</td>\n",
              "      <td>2499</td>\n",
              "      <td>1.000000</td>\n",
              "    </tr>\n",
              "  </tbody>\n",
              "</table>\n",
              "</div>"
            ],
            "text/plain": [
              "    brand    year  Count   Percent  Cumulative Count  Cumulative Percent\n",
              "0    ford    2019    476  0.190476               476            0.190476\n",
              "1   dodge    2019    226  0.090436               702            0.280912\n",
              "2    ford    2017    178  0.071228               880            0.352141\n",
              "3    ford    2018    148  0.059224              1028            0.411365\n",
              "4  nissan    2018    131  0.052421              1159            0.463786\n",
              "5  Others  Others   1340  0.536214              2499            1.000000"
            ]
          },
          "metadata": {
            "tags": []
          },
          "execution_count": 20
        }
      ]
    },
    {
      "cell_type": "code",
      "metadata": {
        "id": "W1KfMZ5-iQe3",
        "colab_type": "code",
        "outputId": "08212733-f85a-4592-abd5-1513cd091b4b",
        "colab": {
          "base_uri": "https://localhost:8080/",
          "height": 258
        }
      },
      "source": [
        "df[df.brand == 'ford'].stb.freq(['year'], thresh=.9)"
      ],
      "execution_count": 21,
      "outputs": [
        {
          "output_type": "execute_result",
          "data": {
            "text/html": [
              "<div>\n",
              "<style scoped>\n",
              "    .dataframe tbody tr th:only-of-type {\n",
              "        vertical-align: middle;\n",
              "    }\n",
              "\n",
              "    .dataframe tbody tr th {\n",
              "        vertical-align: top;\n",
              "    }\n",
              "\n",
              "    .dataframe thead th {\n",
              "        text-align: right;\n",
              "    }\n",
              "</style>\n",
              "<table border=\"1\" class=\"dataframe\">\n",
              "  <thead>\n",
              "    <tr style=\"text-align: right;\">\n",
              "      <th></th>\n",
              "      <th>year</th>\n",
              "      <th>Count</th>\n",
              "      <th>Percent</th>\n",
              "      <th>Cumulative Count</th>\n",
              "      <th>Cumulative Percent</th>\n",
              "    </tr>\n",
              "  </thead>\n",
              "  <tbody>\n",
              "    <tr>\n",
              "      <th>0</th>\n",
              "      <td>2019</td>\n",
              "      <td>476</td>\n",
              "      <td>0.385425</td>\n",
              "      <td>476</td>\n",
              "      <td>0.385425</td>\n",
              "    </tr>\n",
              "    <tr>\n",
              "      <th>1</th>\n",
              "      <td>2017</td>\n",
              "      <td>178</td>\n",
              "      <td>0.144130</td>\n",
              "      <td>654</td>\n",
              "      <td>0.529555</td>\n",
              "    </tr>\n",
              "    <tr>\n",
              "      <th>2</th>\n",
              "      <td>2018</td>\n",
              "      <td>148</td>\n",
              "      <td>0.119838</td>\n",
              "      <td>802</td>\n",
              "      <td>0.649393</td>\n",
              "    </tr>\n",
              "    <tr>\n",
              "      <th>3</th>\n",
              "      <td>2015</td>\n",
              "      <td>124</td>\n",
              "      <td>0.100405</td>\n",
              "      <td>926</td>\n",
              "      <td>0.749798</td>\n",
              "    </tr>\n",
              "    <tr>\n",
              "      <th>4</th>\n",
              "      <td>2016</td>\n",
              "      <td>110</td>\n",
              "      <td>0.089069</td>\n",
              "      <td>1036</td>\n",
              "      <td>0.838866</td>\n",
              "    </tr>\n",
              "    <tr>\n",
              "      <th>5</th>\n",
              "      <td>2014</td>\n",
              "      <td>54</td>\n",
              "      <td>0.043725</td>\n",
              "      <td>1090</td>\n",
              "      <td>0.882591</td>\n",
              "    </tr>\n",
              "    <tr>\n",
              "      <th>6</th>\n",
              "      <td>Others</td>\n",
              "      <td>145</td>\n",
              "      <td>0.117409</td>\n",
              "      <td>1235</td>\n",
              "      <td>1.000000</td>\n",
              "    </tr>\n",
              "  </tbody>\n",
              "</table>\n",
              "</div>"
            ],
            "text/plain": [
              "     year  Count   Percent  Cumulative Count  Cumulative Percent\n",
              "0    2019    476  0.385425               476            0.385425\n",
              "1    2017    178  0.144130               654            0.529555\n",
              "2    2018    148  0.119838               802            0.649393\n",
              "3    2015    124  0.100405               926            0.749798\n",
              "4    2016    110  0.089069              1036            0.838866\n",
              "5    2014     54  0.043725              1090            0.882591\n",
              "6  Others    145  0.117409              1235            1.000000"
            ]
          },
          "metadata": {
            "tags": []
          },
          "execution_count": 21
        }
      ]
    },
    {
      "cell_type": "code",
      "metadata": {
        "id": "R91F7yVKiTtX",
        "colab_type": "code",
        "outputId": "adf82e9a-d064-4e92-a85a-c26e856f1e77",
        "colab": {
          "base_uri": "https://localhost:8080/",
          "height": 228
        }
      },
      "source": [
        "df.stb.freq(['brand'], value='price', thresh=.95)"
      ],
      "execution_count": 22,
      "outputs": [
        {
          "output_type": "execute_result",
          "data": {
            "text/html": [
              "<div>\n",
              "<style scoped>\n",
              "    .dataframe tbody tr th:only-of-type {\n",
              "        vertical-align: middle;\n",
              "    }\n",
              "\n",
              "    .dataframe tbody tr th {\n",
              "        vertical-align: top;\n",
              "    }\n",
              "\n",
              "    .dataframe thead th {\n",
              "        text-align: right;\n",
              "    }\n",
              "</style>\n",
              "<table border=\"1\" class=\"dataframe\">\n",
              "  <thead>\n",
              "    <tr style=\"text-align: right;\">\n",
              "      <th></th>\n",
              "      <th>brand</th>\n",
              "      <th>price</th>\n",
              "      <th>Percent</th>\n",
              "      <th>Cumulative price</th>\n",
              "      <th>Cumulative Percent</th>\n",
              "    </tr>\n",
              "  </thead>\n",
              "  <tbody>\n",
              "    <tr>\n",
              "      <th>0</th>\n",
              "      <td>ford</td>\n",
              "      <td>26758607</td>\n",
              "      <td>0.570541</td>\n",
              "      <td>26758607</td>\n",
              "      <td>0.570541</td>\n",
              "    </tr>\n",
              "    <tr>\n",
              "      <th>1</th>\n",
              "      <td>dodge</td>\n",
              "      <td>7681819</td>\n",
              "      <td>0.163790</td>\n",
              "      <td>34440426</td>\n",
              "      <td>0.734331</td>\n",
              "    </tr>\n",
              "    <tr>\n",
              "      <th>2</th>\n",
              "      <td>chevrolet</td>\n",
              "      <td>5544976</td>\n",
              "      <td>0.118229</td>\n",
              "      <td>39985402</td>\n",
              "      <td>0.852560</td>\n",
              "    </tr>\n",
              "    <tr>\n",
              "      <th>3</th>\n",
              "      <td>nissan</td>\n",
              "      <td>3764536</td>\n",
              "      <td>0.080267</td>\n",
              "      <td>43749938</td>\n",
              "      <td>0.932826</td>\n",
              "    </tr>\n",
              "    <tr>\n",
              "      <th>4</th>\n",
              "      <td>bmw</td>\n",
              "      <td>448750</td>\n",
              "      <td>0.009568</td>\n",
              "      <td>44198688</td>\n",
              "      <td>0.942394</td>\n",
              "    </tr>\n",
              "    <tr>\n",
              "      <th>5</th>\n",
              "      <td>Others</td>\n",
              "      <td>2701723</td>\n",
              "      <td>0.057606</td>\n",
              "      <td>46900411</td>\n",
              "      <td>1.000000</td>\n",
              "    </tr>\n",
              "  </tbody>\n",
              "</table>\n",
              "</div>"
            ],
            "text/plain": [
              "       brand     price   Percent  Cumulative price  Cumulative Percent\n",
              "0       ford  26758607  0.570541          26758607            0.570541\n",
              "1      dodge   7681819  0.163790          34440426            0.734331\n",
              "2  chevrolet   5544976  0.118229          39985402            0.852560\n",
              "3     nissan   3764536  0.080267          43749938            0.932826\n",
              "4        bmw    448750  0.009568          44198688            0.942394\n",
              "5     Others   2701723  0.057606          46900411            1.000000"
            ]
          },
          "metadata": {
            "tags": []
          },
          "execution_count": 22
        }
      ]
    },
    {
      "cell_type": "code",
      "metadata": {
        "id": "XSiwqII5idim",
        "colab_type": "code",
        "outputId": "b9b0da43-f5b6-4933-a1ad-84f8c6e996eb",
        "colab": {
          "base_uri": "https://localhost:8080/",
          "height": 165
        }
      },
      "source": [
        "df.stb.freq(['brand'], value='price', thresh=.95, style=True)"
      ],
      "execution_count": 23,
      "outputs": [
        {
          "output_type": "execute_result",
          "data": {
            "text/html": [
              "<style  type=\"text/css\" >\n",
              "</style><table id=\"T_1f9569f8_abfb_11ea_8a86_0242ac1c0002\" ><thead>    <tr>        <th class=\"blank level0\" ></th>        <th class=\"col_heading level0 col0\" >brand</th>        <th class=\"col_heading level0 col1\" >price</th>        <th class=\"col_heading level0 col2\" >Percent</th>        <th class=\"col_heading level0 col3\" >Cumulative price</th>        <th class=\"col_heading level0 col4\" >Cumulative Percent</th>    </tr></thead><tbody>\n",
              "                <tr>\n",
              "                        <th id=\"T_1f9569f8_abfb_11ea_8a86_0242ac1c0002level0_row0\" class=\"row_heading level0 row0\" >0</th>\n",
              "                        <td id=\"T_1f9569f8_abfb_11ea_8a86_0242ac1c0002row0_col0\" class=\"data row0 col0\" >ford</td>\n",
              "                        <td id=\"T_1f9569f8_abfb_11ea_8a86_0242ac1c0002row0_col1\" class=\"data row0 col1\" >26,758,607</td>\n",
              "                        <td id=\"T_1f9569f8_abfb_11ea_8a86_0242ac1c0002row0_col2\" class=\"data row0 col2\" >57.05%</td>\n",
              "                        <td id=\"T_1f9569f8_abfb_11ea_8a86_0242ac1c0002row0_col3\" class=\"data row0 col3\" >26,758,607</td>\n",
              "                        <td id=\"T_1f9569f8_abfb_11ea_8a86_0242ac1c0002row0_col4\" class=\"data row0 col4\" >57.05%</td>\n",
              "            </tr>\n",
              "            <tr>\n",
              "                        <th id=\"T_1f9569f8_abfb_11ea_8a86_0242ac1c0002level0_row1\" class=\"row_heading level0 row1\" >1</th>\n",
              "                        <td id=\"T_1f9569f8_abfb_11ea_8a86_0242ac1c0002row1_col0\" class=\"data row1 col0\" >dodge</td>\n",
              "                        <td id=\"T_1f9569f8_abfb_11ea_8a86_0242ac1c0002row1_col1\" class=\"data row1 col1\" >7,681,819</td>\n",
              "                        <td id=\"T_1f9569f8_abfb_11ea_8a86_0242ac1c0002row1_col2\" class=\"data row1 col2\" >16.38%</td>\n",
              "                        <td id=\"T_1f9569f8_abfb_11ea_8a86_0242ac1c0002row1_col3\" class=\"data row1 col3\" >34,440,426</td>\n",
              "                        <td id=\"T_1f9569f8_abfb_11ea_8a86_0242ac1c0002row1_col4\" class=\"data row1 col4\" >73.43%</td>\n",
              "            </tr>\n",
              "            <tr>\n",
              "                        <th id=\"T_1f9569f8_abfb_11ea_8a86_0242ac1c0002level0_row2\" class=\"row_heading level0 row2\" >2</th>\n",
              "                        <td id=\"T_1f9569f8_abfb_11ea_8a86_0242ac1c0002row2_col0\" class=\"data row2 col0\" >chevrolet</td>\n",
              "                        <td id=\"T_1f9569f8_abfb_11ea_8a86_0242ac1c0002row2_col1\" class=\"data row2 col1\" >5,544,976</td>\n",
              "                        <td id=\"T_1f9569f8_abfb_11ea_8a86_0242ac1c0002row2_col2\" class=\"data row2 col2\" >11.82%</td>\n",
              "                        <td id=\"T_1f9569f8_abfb_11ea_8a86_0242ac1c0002row2_col3\" class=\"data row2 col3\" >39,985,402</td>\n",
              "                        <td id=\"T_1f9569f8_abfb_11ea_8a86_0242ac1c0002row2_col4\" class=\"data row2 col4\" >85.26%</td>\n",
              "            </tr>\n",
              "            <tr>\n",
              "                        <th id=\"T_1f9569f8_abfb_11ea_8a86_0242ac1c0002level0_row3\" class=\"row_heading level0 row3\" >3</th>\n",
              "                        <td id=\"T_1f9569f8_abfb_11ea_8a86_0242ac1c0002row3_col0\" class=\"data row3 col0\" >nissan</td>\n",
              "                        <td id=\"T_1f9569f8_abfb_11ea_8a86_0242ac1c0002row3_col1\" class=\"data row3 col1\" >3,764,536</td>\n",
              "                        <td id=\"T_1f9569f8_abfb_11ea_8a86_0242ac1c0002row3_col2\" class=\"data row3 col2\" >8.03%</td>\n",
              "                        <td id=\"T_1f9569f8_abfb_11ea_8a86_0242ac1c0002row3_col3\" class=\"data row3 col3\" >43,749,938</td>\n",
              "                        <td id=\"T_1f9569f8_abfb_11ea_8a86_0242ac1c0002row3_col4\" class=\"data row3 col4\" >93.28%</td>\n",
              "            </tr>\n",
              "            <tr>\n",
              "                        <th id=\"T_1f9569f8_abfb_11ea_8a86_0242ac1c0002level0_row4\" class=\"row_heading level0 row4\" >4</th>\n",
              "                        <td id=\"T_1f9569f8_abfb_11ea_8a86_0242ac1c0002row4_col0\" class=\"data row4 col0\" >bmw</td>\n",
              "                        <td id=\"T_1f9569f8_abfb_11ea_8a86_0242ac1c0002row4_col1\" class=\"data row4 col1\" >448,750</td>\n",
              "                        <td id=\"T_1f9569f8_abfb_11ea_8a86_0242ac1c0002row4_col2\" class=\"data row4 col2\" >0.96%</td>\n",
              "                        <td id=\"T_1f9569f8_abfb_11ea_8a86_0242ac1c0002row4_col3\" class=\"data row4 col3\" >44,198,688</td>\n",
              "                        <td id=\"T_1f9569f8_abfb_11ea_8a86_0242ac1c0002row4_col4\" class=\"data row4 col4\" >94.24%</td>\n",
              "            </tr>\n",
              "            <tr>\n",
              "                        <th id=\"T_1f9569f8_abfb_11ea_8a86_0242ac1c0002level0_row5\" class=\"row_heading level0 row5\" >5</th>\n",
              "                        <td id=\"T_1f9569f8_abfb_11ea_8a86_0242ac1c0002row5_col0\" class=\"data row5 col0\" >Others</td>\n",
              "                        <td id=\"T_1f9569f8_abfb_11ea_8a86_0242ac1c0002row5_col1\" class=\"data row5 col1\" >2,701,723</td>\n",
              "                        <td id=\"T_1f9569f8_abfb_11ea_8a86_0242ac1c0002row5_col2\" class=\"data row5 col2\" >5.76%</td>\n",
              "                        <td id=\"T_1f9569f8_abfb_11ea_8a86_0242ac1c0002row5_col3\" class=\"data row5 col3\" >46,900,411</td>\n",
              "                        <td id=\"T_1f9569f8_abfb_11ea_8a86_0242ac1c0002row5_col4\" class=\"data row5 col4\" >100.00%</td>\n",
              "            </tr>\n",
              "    </tbody></table>"
            ],
            "text/plain": [
              "<pandas.io.formats.style.Styler at 0x7ff1060e1e10>"
            ]
          },
          "metadata": {
            "tags": []
          },
          "execution_count": 23
        }
      ]
    }
  ]
}