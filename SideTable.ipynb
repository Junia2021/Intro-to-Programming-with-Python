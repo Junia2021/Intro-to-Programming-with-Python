{
  "nbformat": 4,
  "nbformat_minor": 0,
  "metadata": {
    "colab": {
      "name": "SideTable.ipynb",
      "provenance": [],
      "include_colab_link": true
    },
    "kernelspec": {
      "name": "python3",
      "display_name": "Python 3"
    },
    "accelerator": "GPU"
  },
  "cells": [
    {
      "cell_type": "markdown",
      "metadata": {
        "id": "view-in-github",
        "colab_type": "text"
      },
      "source": [
        "<a href=\"https://colab.research.google.com/github/cagBRT/Intro-to-Programming-with-Python/blob/master/SideTable.ipynb\" target=\"_parent\"><img src=\"https://colab.research.google.com/assets/colab-badge.svg\" alt=\"Open In Colab\"/></a>"
      ]
    },
    {
      "cell_type": "markdown",
      "metadata": {
        "id": "Tv3fSOgAC88T",
        "colab_type": "text"
      },
      "source": [
        "This notebook demonstrates some of the uses of Sidetable, a Python library.\n",
        "https://pbpython.com/sidetable.html\n"
      ]
    },
    {
      "cell_type": "code",
      "metadata": {
        "id": "KzHWIf8uBGWT",
        "colab_type": "code",
        "colab": {}
      },
      "source": [
        "\n",
        "# Clone the entire repo.\n",
        "!git clone -l -s https://github.com/cagBRT/Intro-to-Programming-with-Python.git cloned-repo\n",
        "%cd cloned-repo\n",
        "!ls"
      ],
      "execution_count": 0,
      "outputs": []
    },
    {
      "cell_type": "markdown",
      "metadata": {
        "id": "9rUn7YiPimsI",
        "colab_type": "text"
      },
      "source": [
        "**Install sidetable**\n"
      ]
    },
    {
      "cell_type": "code",
      "metadata": {
        "id": "1drI-pTog080",
        "colab_type": "code",
        "colab": {}
      },
      "source": [
        "!pip install sidetable"
      ],
      "execution_count": 0,
      "outputs": []
    },
    {
      "cell_type": "code",
      "metadata": {
        "id": "0i9bRaA5g-ff",
        "colab_type": "code",
        "colab": {}
      },
      "source": [
        "import pandas as pd\n",
        "import sidetable"
      ],
      "execution_count": 0,
      "outputs": []
    },
    {
      "cell_type": "markdown",
      "metadata": {
        "id": "eXEVOwD3BSP5",
        "colab_type": "text"
      },
      "source": [
        "**Get data**\n",
        "<br>Load the data as a pandas dataframe"
      ]
    },
    {
      "cell_type": "code",
      "metadata": {
        "id": "Fz3UeRgGhCJW",
        "colab_type": "code",
        "colab": {}
      },
      "source": [
        "df = pd.read_csv(\"USA_cars_datasets.csv\")\n",
        "#drop redundant columns\n",
        "df.drop(['Unnamed: 0','vin','lot'], axis=1, inplace=True)\n",
        "df.head()"
      ],
      "execution_count": 0,
      "outputs": []
    },
    {
      "cell_type": "code",
      "metadata": {
        "id": "ljkOeOVQB1n4",
        "colab_type": "code",
        "colab": {}
      },
      "source": [
        "df.shape"
      ],
      "execution_count": 0,
      "outputs": []
    },
    {
      "cell_type": "markdown",
      "metadata": {
        "id": "XNWulH0hBoSy",
        "colab_type": "text"
      },
      "source": [
        "Use sidetable to determine percent  of total of each car brand"
      ]
    },
    {
      "cell_type": "code",
      "metadata": {
        "id": "BvGNiZh3h0i4",
        "colab_type": "code",
        "colab": {}
      },
      "source": [
        "df.stb.freq(['brand'])[:10]"
      ],
      "execution_count": 0,
      "outputs": []
    },
    {
      "cell_type": "markdown",
      "metadata": {
        "id": "m9f8azVhCOOi",
        "colab_type": "text"
      },
      "source": [
        "Use sidetable to determine top three brands vs other brands"
      ]
    },
    {
      "cell_type": "code",
      "metadata": {
        "id": "K7ZrIt02iB9_",
        "colab_type": "code",
        "colab": {}
      },
      "source": [
        "df.stb.freq(['brand'], thresh=.8, other_label='other brands')"
      ],
      "execution_count": 0,
      "outputs": []
    },
    {
      "cell_type": "code",
      "metadata": {
        "id": "o3mBEgqaiMeO",
        "colab_type": "code",
        "colab": {}
      },
      "source": [
        "df.stb.freq(['brand','year'], thresh=.5)"
      ],
      "execution_count": 0,
      "outputs": []
    },
    {
      "cell_type": "code",
      "metadata": {
        "id": "W1KfMZ5-iQe3",
        "colab_type": "code",
        "colab": {}
      },
      "source": [
        "df[df.brand == 'ford'].stb.freq(['year'], thresh=.9)"
      ],
      "execution_count": 0,
      "outputs": []
    },
    {
      "cell_type": "code",
      "metadata": {
        "id": "R91F7yVKiTtX",
        "colab_type": "code",
        "colab": {}
      },
      "source": [
        "df.stb.freq(['brand'], value='price', thresh=.95)"
      ],
      "execution_count": 0,
      "outputs": []
    },
    {
      "cell_type": "code",
      "metadata": {
        "id": "XSiwqII5idim",
        "colab_type": "code",
        "colab": {}
      },
      "source": [
        "df.stb.freq(['brand'], value='price', thresh=.95, style=True)"
      ],
      "execution_count": 0,
      "outputs": []
    }
  ]
}