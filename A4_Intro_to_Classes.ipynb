{
  "nbformat": 4,
  "nbformat_minor": 0,
  "metadata": {
    "colab": {
      "name": "A4 Intro to Classes.ipynb",
      "private_outputs": true,
      "provenance": [],
      "authorship_tag": "ABX9TyM9lYMQDwasGvwwfc+2DfWv",
      "include_colab_link": true
    },
    "kernelspec": {
      "name": "python3",
      "display_name": "Python 3"
    },
    "language_info": {
      "name": "python"
    }
  },
  "cells": [
    {
      "cell_type": "markdown",
      "metadata": {
        "id": "view-in-github",
        "colab_type": "text"
      },
      "source": [
        "<a href=\"https://colab.research.google.com/github/cagBRT/Intro-to-Programming-with-Python/blob/master/A4_Intro_to_Classes.ipynb\" target=\"_parent\"><img src=\"https://colab.research.google.com/assets/colab-badge.svg\" alt=\"Open In Colab\"/></a>"
      ]
    },
    {
      "cell_type": "markdown",
      "metadata": {
        "id": "aDW6IFaF2v0a"
      },
      "source": [
        "## **Modifying class members**"
      ]
    },
    {
      "cell_type": "markdown",
      "metadata": {
        "id": "fTqYQP4y24IS"
      },
      "source": [
        "After creating instances of a class, we can modify the values of the members"
      ]
    },
    {
      "cell_type": "markdown",
      "metadata": {
        "id": "jeItMM6o3Gm9"
      },
      "source": [
        "**Create a class**"
      ]
    },
    {
      "cell_type": "code",
      "metadata": {
        "id": "n_2aptAe2nII"
      },
      "source": [
        "class Favorites:\n",
        "  \"class that tracks user favorites\"\n",
        "  def __init__(self, name, favs):\n",
        "    self.name=name\n",
        "    self.favs=favs\n",
        "\n",
        "  def printInfo(self):\n",
        "    print(self.name,\":\",self.favs)\n",
        "\n",
        "  def printOneFavs(self,index):\n",
        "    print(self.favs[index])\n",
        "\n",
        "  def printAllFavs(self):\n",
        "    print(self.favs)\n",
        "\n",
        "  def printSomeFavs(self, start, stop):\n",
        "    for i in range(start, stop):\n",
        "      print(i, self.favs[i])"
      ],
      "execution_count": null,
      "outputs": []
    },
    {
      "cell_type": "markdown",
      "metadata": {
        "id": "iMKcFa1q3JvU"
      },
      "source": [
        "**Create instances of the class**"
      ]
    },
    {
      "cell_type": "code",
      "metadata": {
        "id": "W1GHGHfk3Ntc"
      },
      "source": [
        "favs=['eel','dog','pony','horse','cat','fish','bird','chicken']\n",
        "f1=Favorites('kalis_list',favs)"
      ],
      "execution_count": null,
      "outputs": []
    },
    {
      "cell_type": "markdown",
      "metadata": {
        "id": "fYhYQSFy3oKb"
      },
      "source": [
        "**Use the class methods**"
      ]
    },
    {
      "cell_type": "code",
      "metadata": {
        "id": "0buNrmRD3sv8"
      },
      "source": [
        "f1.printAllFavs()\n",
        "f1.printInfo()\n",
        "f1.printOneFavs(4)\n",
        "f1.printSomeFavs(2,5)"
      ],
      "execution_count": null,
      "outputs": []
    },
    {
      "cell_type": "markdown",
      "metadata": {
        "id": "-Mo6hggd36xD"
      },
      "source": [
        "**Modify the values of the members**"
      ]
    },
    {
      "cell_type": "code",
      "metadata": {
        "id": "eg8wCNYp4AOx"
      },
      "source": [
        "print('name=',f1.name)\n",
        "f1.name='tobys_list'\n",
        "print('name=',f1.name)"
      ],
      "execution_count": null,
      "outputs": []
    },
    {
      "cell_type": "markdown",
      "metadata": {
        "id": "mO5RFSKe4YTc"
      },
      "source": [
        "**Assignment 1**<br>\n",
        "Change the list of favs for f1"
      ]
    },
    {
      "cell_type": "code",
      "metadata": {
        "id": "kl5sXj9m4kw7"
      },
      "source": [
        "#Assignment 1\n"
      ],
      "execution_count": null,
      "outputs": []
    }
  ]
}