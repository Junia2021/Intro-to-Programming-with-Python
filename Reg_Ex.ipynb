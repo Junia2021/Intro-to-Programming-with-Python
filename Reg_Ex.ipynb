{
  "nbformat": 4,
  "nbformat_minor": 0,
  "metadata": {
    "colab": {
      "name": "Reg Ex.ipynb",
      "provenance": [],
      "private_outputs": true,
      "authorship_tag": "ABX9TyPcNLTwDgpPARolSCeQB7Dn",
      "include_colab_link": true
    },
    "kernelspec": {
      "name": "python3",
      "display_name": "Python 3"
    }
  },
  "cells": [
    {
      "cell_type": "markdown",
      "metadata": {
        "id": "view-in-github",
        "colab_type": "text"
      },
      "source": [
        "<a href=\"https://colab.research.google.com/github/cagBRT/Intro-to-Programming-with-Python/blob/master/Reg_Ex.ipynb\" target=\"_parent\"><img src=\"https://colab.research.google.com/assets/colab-badge.svg\" alt=\"Open In Colab\"/></a>"
      ]
    },
    {
      "cell_type": "markdown",
      "metadata": {
        "id": "y8YdYMby5fpy",
        "colab_type": "text"
      },
      "source": [
        "# **Regular Expressions**\n",
        "https://www.w3schools.com/python/python_regex.asp<br>\n",
        "https://www.rexegg.com/regex-quickstart.html<br>\n",
        "https://chrisalbon.com/python/data_wrangling/regex_by_example/\n"
      ]
    },
    {
      "cell_type": "code",
      "metadata": {
        "id": "S0Qd5RaVvTXG",
        "colab_type": "code",
        "colab": {}
      },
      "source": [
        "import re"
      ],
      "execution_count": null,
      "outputs": []
    },
    {
      "cell_type": "markdown",
      "metadata": {
        "id": "RdZgpSSbwRfw",
        "colab_type": "text"
      },
      "source": [
        "**Search a string for a pattern**<br>\n",
        "re.search(\"the pattern\", the string)"
      ]
    },
    {
      "cell_type": "code",
      "metadata": {
        "id": "IY_RdfZLvXZ3",
        "colab_type": "code",
        "colab": {}
      },
      "source": [
        "txt = \"Mairzy doats and dozy doats and liddle lamzy divey\"\\\n",
        "\"A kiddley divey too, wouldn't you?\""
      ],
      "execution_count": null,
      "outputs": []
    },
    {
      "cell_type": "code",
      "metadata": {
        "id": "mPTuHwJq5vVC",
        "colab_type": "code",
        "colab": {}
      },
      "source": [
        "print(len(txt))"
      ],
      "execution_count": null,
      "outputs": []
    },
    {
      "cell_type": "code",
      "metadata": {
        "id": "tQH48EaMyQTQ",
        "colab_type": "code",
        "colab": {}
      },
      "source": [
        "x = re.search(\"lamzy\", txt)\n",
        "print(\"x = \", x)"
      ],
      "execution_count": null,
      "outputs": []
    },
    {
      "cell_type": "markdown",
      "metadata": {
        "id": "6oKjlW0Fyrug",
        "colab_type": "text"
      },
      "source": [
        "# **Assignment 1** \n",
        "Use re.search to see if the following words are in the txt:<br>\n",
        ">you<br>\n",
        "doats<br>\n",
        "bird<br>\n",
        "divey<br>\n"
      ]
    },
    {
      "cell_type": "code",
      "metadata": {
        "id": "PAuSkmmeys_H",
        "colab_type": "code",
        "colab": {}
      },
      "source": [
        ""
      ],
      "execution_count": null,
      "outputs": []
    },
    {
      "cell_type": "markdown",
      "metadata": {
        "id": "7XGZF58yzTG6",
        "colab_type": "text"
      },
      "source": [
        "# **Partial Pattern Matches**"
      ]
    },
    {
      "cell_type": "markdown",
      "metadata": {
        "id": "XXm1v3mw6t0K",
        "colab_type": "text"
      },
      "source": [
        "**Text at the beginning and end of a string**"
      ]
    },
    {
      "cell_type": "code",
      "metadata": {
        "id": "FRXmgM2C3fE1",
        "colab_type": "code",
        "colab": {}
      },
      "source": [
        "#determine if the string begins with the pattern \"Mairzy\"\n",
        "x = re.search(\"^Mairzy\", txt)\n",
        "print(\"x = \", x)"
      ],
      "execution_count": null,
      "outputs": []
    },
    {
      "cell_type": "markdown",
      "metadata": {
        "id": "vdwoPZEA48uD",
        "colab_type": "text"
      },
      "source": [
        "**Discussion**\n",
        "The search returns None. We know txt ends in \"you?\". <br>\n",
        "What is wrong with our code?"
      ]
    },
    {
      "cell_type": "code",
      "metadata": {
        "id": "fN7Ad0nD5MoL",
        "colab_type": "code",
        "colab": {}
      },
      "source": [
        "#determine if the string ends with the pattern \"you?\"\n",
        "x = re.search(\"you?$\", txt)\n",
        "print(\"x = \", x)"
      ],
      "execution_count": null,
      "outputs": []
    },
    {
      "cell_type": "markdown",
      "metadata": {
        "id": "5YEIghdZMV_B",
        "colab_type": "text"
      },
      "source": [
        "**Special Characters**"
      ]
    },
    {
      "cell_type": "markdown",
      "metadata": {
        "id": "qQfC-S-sMajN",
        "colab_type": "text"
      },
      "source": [
        "If we want to do more than simply search for literal pieces of text, we need to reserve certain characters for special use. \n",
        "<br>There are 12 characters with special meanings: <br>\n",
        ">the backslash \\--> Use special characters as text <br>\n",
        "the caret ^ --> Search for beginning of text <br>\n",
        "the dollar sign $ --> \tEnd of string or end of line<br>\n",
        "the period or dot . --> Any character except line break<br>\n",
        "the vertical bar or pipe symbol | --> Or function<br>\n",
        "the question mark ?, <br>\n",
        "the asterisk or star * --> Zero or more times <br>\n",
        "the plus sign +, <br>\n",
        "the opening parenthesis (, <br>\n",
        "the closing parenthesis ), <br>\n",
        "the opening square bracket [, <br>\n",
        "the opening curly brace {, <br>\n",
        "\n",
        "These special characters are often called “metacharacters”. <br>\n",
        "*Most of them are errors when used alone.*"
      ]
    },
    {
      "cell_type": "markdown",
      "metadata": {
        "id": "zvjkAiEcOtQi",
        "colab_type": "text"
      },
      "source": [
        "# **Assignment 2**<br>\n",
        "Search for \"you?\" in txt"
      ]
    },
    {
      "cell_type": "code",
      "metadata": {
        "id": "aMhKs-QSOweI",
        "colab_type": "code",
        "colab": {}
      },
      "source": [
        "#Assignment 2\n",
        "#Find all lower case letters in the txt\n",
        "#$ == end of string\n",
        "#[] == search for these letters\n",
        "txt = \"Mairzy doats and dozy doats and liddle lamzy divey\"\\\n",
        "\"A kiddley divey too, wouldn't you?\"\n"
      ],
      "execution_count": null,
      "outputs": []
    },
    {
      "cell_type": "markdown",
      "metadata": {
        "id": "d_ksn3Hyar8G",
        "colab_type": "text"
      },
      "source": [
        "# **Assignment 3**\n",
        "Determine if there is a question mark in the text"
      ]
    },
    {
      "cell_type": "code",
      "metadata": {
        "id": "oa-v4CXcVqFc",
        "colab_type": "code",
        "colab": {}
      },
      "source": [
        "#Assignment 3\n",
        "#Determine if there is a question in this text\n",
        "txt = \"This is a sentence. Is this a sentence? Or is this a sentence?\"\\\n",
        "\"You are looking for questions? Did you ask the Lorax?\"\n"
      ],
      "execution_count": null,
      "outputs": []
    },
    {
      "cell_type": "markdown",
      "metadata": {
        "id": "K98hPAnINskA",
        "colab_type": "text"
      },
      "source": [
        "**Search for two words that may be anywhere in the text, regardless of what words are between them.**"
      ]
    },
    {
      "cell_type": "code",
      "metadata": {
        "id": "iNLPgzZUzI1L",
        "colab_type": "code",
        "colab": {}
      },
      "source": [
        "txt = \"Mairzy doats and dozy doats and liddle lamzy divey\"\\\n",
        "\"A kiddley divey too, wouldn't you?\"\n",
        "#. == Any character except line break\n",
        "#* == Zero or more times\n",
        "x = re.search(\"kiddley.*too\", txt)\n",
        "print(\"x = \", x)"
      ],
      "execution_count": null,
      "outputs": []
    },
    {
      "cell_type": "markdown",
      "metadata": {
        "id": "7fVgRq1BifxI",
        "colab_type": "text"
      },
      "source": [
        "**Search for two words anywhere in the text, regardless of the what wors are between them. Also, the words can be in either order**."
      ]
    },
    {
      "cell_type": "code",
      "metadata": {
        "id": "wIbLAUyOivd3",
        "colab_type": "code",
        "colab": {}
      },
      "source": [
        "#Notice the order is changed on the two words. \n",
        "#They are still found\n",
        "#Using the metacharacter '|' -- or or pipeline\n",
        "txt = \"Mairzy doats and dozy doats and liddle lamzy divey\"\\\n",
        "\"A too divey kiddley, wouldn't you?\"\n",
        "\n",
        "x = re.search(\"kiddley.*too|too.*kiddley\", txt)\n",
        "print(\"x = \", x)"
      ],
      "execution_count": null,
      "outputs": []
    },
    {
      "cell_type": "markdown",
      "metadata": {
        "id": "dI8J750bjSc1",
        "colab_type": "text"
      },
      "source": [
        "# **Assignment 4**\n",
        "Find out if transX and clutch are used in the text. Order is not important."
      ]
    },
    {
      "cell_type": "code",
      "metadata": {
        "id": "e6XP-czXjh1x",
        "colab_type": "code",
        "colab": {}
      },
      "source": [
        "txt = \"Vehicle came in on 3/3/2020. Making noise when gears are changed.\"\\\n",
        "\"The clutch appears to be burned out and transX may need a rebuild.\"\\\n",
        "\"Owner says problem started when vehicle got stuck in the mud.\"\\\n",
        "\"TransX shows signs of tampering, which may negate warranty.\"\\\n",
        "\"TransX missing torque converter, gears 1-3 stripped.\""
      ],
      "execution_count": null,
      "outputs": []
    },
    {
      "cell_type": "markdown",
      "metadata": {
        "id": "B5u9pVsCZRrC",
        "colab_type": "text"
      },
      "source": [
        "Sometimes the match looks wrong<br>\n",
        "The match is found but the output is not the full text. <br>\n",
        "So beware the output"
      ]
    },
    {
      "cell_type": "code",
      "metadata": {
        "id": "OXO_4t8yZQfC",
        "colab_type": "code",
        "colab": {}
      },
      "source": [
        "txt = \"Mairzy doats and dozy doats and liddle lamzy divey\"\\\n",
        "\"A kiddley divey too, wouldn't you?\"\n",
        "#. == Any character except line break\n",
        "#* == Zero or more times\n",
        "x = re.search(\"Mairzy.*too\", txt)\n",
        "print(\"x = \", x)"
      ],
      "execution_count": null,
      "outputs": []
    },
    {
      "cell_type": "markdown",
      "metadata": {
        "id": "I1TOgho79K8c",
        "colab_type": "text"
      },
      "source": [
        "# **RegEx Functions**"
      ]
    },
    {
      "cell_type": "markdown",
      "metadata": {
        "id": "0qD7eczB9kjY",
        "colab_type": "text"
      },
      "source": [
        "The **findall()** function returns a list containing all matches."
      ]
    },
    {
      "cell_type": "code",
      "metadata": {
        "id": "RzxTVQ3Q9mb1",
        "colab_type": "code",
        "colab": {}
      },
      "source": [
        "txt = \"Mairzy doats and dozy doats and liddle lamzy divey\"\\\n",
        "\"A kiddley divey too, wouldn't you?\"\n",
        "x = re.findall(\"and\", txt)\n",
        "print(x)"
      ],
      "execution_count": null,
      "outputs": []
    },
    {
      "cell_type": "markdown",
      "metadata": {
        "id": "AalbSSDHbaRx",
        "colab_type": "text"
      },
      "source": [
        "**Finding all instances of a pattern**<br>\n",
        "Notice that it finds all the question marks, but it doesn't tell you where they are. <br>\n",
        "It returns a list. "
      ]
    },
    {
      "cell_type": "code",
      "metadata": {
        "id": "pj8RExwwcCAR",
        "colab_type": "code",
        "colab": {}
      },
      "source": [
        "#Find all the question marks\n",
        "txt = \"This is a sentence. Is this a sentence? Or is this a sentence?\"\\\n",
        "\"You are looking for questions? Did you ask the Lorax?\"\n",
        "x = re.findall('\\?',  txt)\n",
        "print(x)"
      ],
      "execution_count": null,
      "outputs": []
    },
    {
      "cell_type": "code",
      "metadata": {
        "id": "4IKQMCy3ciQf",
        "colab_type": "code",
        "colab": {}
      },
      "source": [
        "print(type(x))"
      ],
      "execution_count": null,
      "outputs": []
    },
    {
      "cell_type": "markdown",
      "metadata": {
        "id": "rzgtY3u0erlt",
        "colab_type": "text"
      },
      "source": [
        "**Find and change words using Regex**<br>\n",
        "Use:\n",
        ">re.sub('search text','new text')"
      ]
    },
    {
      "cell_type": "code",
      "metadata": {
        "id": "3IK03mTafnQu",
        "colab_type": "code",
        "colab": {}
      },
      "source": [
        "txt = \"Mairzy doats and dozy doats and liddle lamzy divey \"\\\n",
        "\"A kiddley divey too, wouldn't you?\"\n",
        "txt.replace(\"Mairzy doats\", \"Mares eat oats\")"
      ],
      "execution_count": null,
      "outputs": []
    },
    {
      "cell_type": "markdown",
      "metadata": {
        "id": "VRhxOSRhRuyQ",
        "colab_type": "text"
      },
      "source": [
        "# **Assignment 5**<br>\n",
        "Find all the instances of \"transX\" in the text and change it to \"transmission\"\n"
      ]
    },
    {
      "cell_type": "code",
      "metadata": {
        "id": "KZvCXtqySHBK",
        "colab_type": "code",
        "colab": {}
      },
      "source": [
        "txt = \"Vehicle came in on 3/3/2020. Making noise when gears are changed.\"\\\n",
        "\"The clutch appears to be burned out and transX may need rebuild.\"\\\n",
        "\"Owner says problem started when vehicle got stuck in the mud.\"\\\n",
        "\"TransX shows signs of tampering, which may negate warranty.\"\\\n",
        "\"TransX missing torque converter, gears 1-3 stripped.\"\n"
      ],
      "execution_count": null,
      "outputs": []
    },
    {
      "cell_type": "markdown",
      "metadata": {
        "id": "KHJTksHLkvA9",
        "colab_type": "text"
      },
      "source": [
        "**Find numbers**"
      ]
    },
    {
      "cell_type": "code",
      "metadata": {
        "id": "IyxRZ9OK9_8v",
        "colab_type": "code",
        "colab": {}
      },
      "source": [
        "txt = \"Vehicle came in on 3/3/2020. Making noise when gears are changed.\"\\\n",
        "\"The clutch appears to be burned out and transX may need rebuild.\"\\\n",
        "\"Owner says problem started when vehicle got stuck in the mud.\"\\\n",
        "\"TransX shows signs of tampering, which may negate warranty.\"\\\n",
        "\"TransX missing torque converter, gears 1-3 stripped.\"\n",
        "\n",
        "x= re.search(\"\\d\", txt)\n",
        "print(x)"
      ],
      "execution_count": null,
      "outputs": []
    },
    {
      "cell_type": "markdown",
      "metadata": {
        "id": "2hCinPk2lB7b",
        "colab_type": "text"
      },
      "source": [
        "**Find specific quantity of numbers**"
      ]
    },
    {
      "cell_type": "code",
      "metadata": {
        "id": "J8czGCSClKhD",
        "colab_type": "code",
        "colab": {}
      },
      "source": [
        "txt = \"Vehicle came in on 3/3/2020. Making noise when gears are changed.\"\\\n",
        "\"The clutch appears to be burned out and transX may need rebuild.\"\\\n",
        "\"Owner says problem started when vehicle got stuck in the mud.\"\\\n",
        "\"TransX shows signs of tampering, which may negate warranty.\"\\\n",
        "\"TransX missing torque converter, gears 1-3 stripped.\"\n",
        "x= re.search(\"\\d{4}\", txt)\n",
        "print(x)"
      ],
      "execution_count": null,
      "outputs": []
    },
    {
      "cell_type": "markdown",
      "metadata": {
        "id": "jhYDYNgslW6_",
        "colab_type": "text"
      },
      "source": [
        "# **Assignment 6** \n",
        "Find all the patterns in the text that have 6 digits."
      ]
    },
    {
      "cell_type": "code",
      "metadata": {
        "id": "euQurNeRlYzd",
        "colab_type": "code",
        "colab": {}
      },
      "source": [
        "#Assginment 6\n",
        "txt = \"12, 234, 245324, 456, 23412, 87695, 543, 7853, 43/654, 7654, 409877\"\n"
      ],
      "execution_count": null,
      "outputs": []
    },
    {
      "cell_type": "markdown",
      "metadata": {
        "id": "KombxC3bl-fR",
        "colab_type": "text"
      },
      "source": [
        "# **Assignment 7**<br>\n",
        "The following text was found in a text file. <br>\n",
        "The text was entered by various people on the floor who were working double shifts, so they were tired when they typed in the following information. <br>\n",
        "The part numbers should just be a list of digits, there should be no special characters in them. <br>\n",
        "1. Clean up the part numbers.<br>\n",
        "2. Each description should begin with the part number, followed by the issue. <br>\n",
        "\n",
        "For example: <br>\n",
        ">\"Part no. #44-5 is broken\" becomes \"445 is broken\""
      ]
    },
    {
      "cell_type": "code",
      "metadata": {
        "id": "1j5_j5L6l-oP",
        "colab_type": "code",
        "colab": {}
      },
      "source": [
        "#Assignment 7\n",
        "txt = \"Part no. 66-84 + 34\\2 are both broken\"\\\n",
        "\"Part #33443.54 is missing\"\\\n",
        "\"Part #332%5 is installed incorrectly\"\\\n",
        "\"Pt. No. 12-!1.5 needs a rebuild\"\\\n",
        "\"#(9 is missing a washer\"\n",
        "\n"
      ],
      "execution_count": null,
      "outputs": []
    },
    {
      "cell_type": "markdown",
      "metadata": {
        "id": "xfNSTod3n65m",
        "colab_type": "text"
      },
      "source": [
        ""
      ]
    },
    {
      "cell_type": "code",
      "metadata": {
        "id": "WcbaNB7fn7JV",
        "colab_type": "code",
        "colab": {}
      },
      "source": [
        ""
      ],
      "execution_count": null,
      "outputs": []
    }
  ]
}